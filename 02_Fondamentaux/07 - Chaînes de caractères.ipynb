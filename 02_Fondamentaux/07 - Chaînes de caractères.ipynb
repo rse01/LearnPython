{
 "cells": [
  {
   "cell_type": "markdown",
   "metadata": {},
   "source": [
    "Chaînes de caractères\n",
    "=====================\n",
    "\n",
    "Introduction\n",
    "------------\n",
    "\n",
    "Les chaînes de caractères sont un conteneurs particulier : c'est un type de données qui ne contient que des caractères.\n",
    "\n",
    "Comme le n-uplet, une chaîne de caractère n'est **pas mutable**. Toutes ses méthodes ne transforment donc pas la chaîne courante, mais renvoient une nouvelle chaîne construire à partir d'elle.\n",
    "\n",
    "Une chaîne de caractère est délimitée par un **\"** ou un **'**. Elle peut tenir sur plusieurs lignes si la ligne se termine par **\\\\** (qui ne fait pas de changement de ligne) ou si l'on utilise trois **\"** ou trois **'''**.\n",
    "Les caractères sont ceux contenus dans la table de caractère de la locale courante (pour nous, ISO-8859-15), au nombre de 256."
   ]
  },
  {
   "cell_type": "code",
   "execution_count": null,
   "metadata": {},
   "outputs": [],
   "source": [
    "print(\"Chaine de caractère\\nNouvelle ligne. \\\n",
    "Ceci n'est pas une nouvelle ligne\")"
   ]
  },
  {
   "cell_type": "code",
   "execution_count": null,
   "metadata": {},
   "outputs": [],
   "source": [
    "print(\"Chaine de caractère\\nNouvelle ligne. \"\n",
    "      \"Ceci n'est pas une nouvelle ligne\")"
   ]
  },
  {
   "cell_type": "code",
   "execution_count": null,
   "metadata": {},
   "outputs": [],
   "source": [
    "print(\"\"\"Ceci est\n",
    "une chaîne de caractères\n",
    "sur plusieurs lignes\"\"\")"
   ]
  },
  {
   "cell_type": "markdown",
   "metadata": {},
   "source": [
    "Voici les méthodes présentes :"
   ]
  },
  {
   "cell_type": "code",
   "execution_count": null,
   "metadata": {},
   "outputs": [],
   "source": [
    "dir(\"\")"
   ]
  },
  {
   "cell_type": "markdown",
   "metadata": {},
   "source": [
    "Méthodes de manipulation\n",
    "------------------------\n",
    "\n",
    "On distingue des méthodes permettant de travailler sur les chaînes de caractères :\n",
    "\n",
    "* les méthodes **count** et **index** sont similaires à celles des conteneurs ;\n",
    "* l'opérateur **+** permet la concaténation et l'opérateur **(*)** permet la répétition ;\n",
    "***\n",
    "* la méthode **startswith** permet de savoir si la chaîne *commence* par une sous-chaîne ;\n",
    "* la méthode **endswith** permet de savoir si la chaîne *termine* par une sous-chaîne ;\n",
    "***\n",
    "* la méthode **split** permet de découper une chaîne de caractère en utilisant un séparateur ;\n",
    "* la méthode **join** permet l'inverse, elle est appelée sur la chaîne glue."
   ]
  },
  {
   "cell_type": "code",
   "execution_count": null,
   "metadata": {},
   "outputs": [],
   "source": [
    "\"Voici des mots\".split(\" \")"
   ]
  },
  {
   "cell_type": "code",
   "execution_count": null,
   "metadata": {},
   "outputs": [],
   "source": [
    "\"_\".join([\"a\", \"b\", \"c\"])"
   ]
  },
  {
   "cell_type": "markdown",
   "metadata": {},
   "source": [
    "* la méthode **lower** permet de mettre la chaîne en minuscule ;\n",
    "* la méthode **upper** permet de mettre la chaîne en majuscule ;\n",
    "* la méthode **swapcase** permet d'inverser minuscules et majuscules ;\n",
    "* la méthode **title** permet de mettre toutes les premières lettres de chaque mot en majuscule et les autres en minuscule ;\n",
    "* la méthode **capitalize** permet de mettre la première lettre de la chaîne en majuscule et les autres en minuscule ;"
   ]
  },
  {
   "cell_type": "code",
   "execution_count": null,
   "metadata": {},
   "outputs": [],
   "source": [
    "'tEsT 42 tESt'.lower()"
   ]
  },
  {
   "cell_type": "code",
   "execution_count": null,
   "metadata": {},
   "outputs": [],
   "source": [
    "'tEsT 42 tESt'.upper()"
   ]
  },
  {
   "cell_type": "code",
   "execution_count": null,
   "metadata": {},
   "outputs": [],
   "source": [
    "'tEsT 42 tESt'.swapcase()"
   ]
  },
  {
   "cell_type": "code",
   "execution_count": null,
   "metadata": {},
   "outputs": [],
   "source": [
    "'tEsT 42 tESt'.title()"
   ]
  },
  {
   "cell_type": "code",
   "execution_count": null,
   "metadata": {},
   "outputs": [],
   "source": [
    "'tEsT 42 tESt'.capitalize()"
   ]
  },
  {
   "cell_type": "markdown",
   "metadata": {},
   "source": [
    "Méthodes de formatage\n",
    "---------------------\n",
    "\n",
    "Voici un pêle-mêle des méthodes existantes :"
   ]
  },
  {
   "cell_type": "code",
   "execution_count": null,
   "metadata": {},
   "outputs": [],
   "source": [
    "'test'.center(30)"
   ]
  },
  {
   "cell_type": "code",
   "execution_count": null,
   "metadata": {},
   "outputs": [],
   "source": [
    "'test'.rjust(30)"
   ]
  },
  {
   "cell_type": "code",
   "execution_count": null,
   "metadata": {},
   "outputs": [],
   "source": [
    "\"42\".zfill(4)"
   ]
  },
  {
   "cell_type": "code",
   "execution_count": null,
   "metadata": {},
   "outputs": [],
   "source": [
    "'  -*- test -*-  '.strip()"
   ]
  },
  {
   "cell_type": "code",
   "execution_count": null,
   "metadata": {},
   "outputs": [],
   "source": [
    "'  -*- test -*- test -*-  '.strip(' -*')"
   ]
  },
  {
   "cell_type": "code",
   "execution_count": null,
   "metadata": {},
   "outputs": [],
   "source": [
    "import string\n",
    "print(dir(string))\n",
    "print(string.printable)\n",
    "string.whitespace"
   ]
  },
  {
   "cell_type": "markdown",
   "metadata": {},
   "source": [
    "Enfin, voici l'élément le plus important, l'opérateur modulo :\n",
    "\n",
    "L'utilité de cet opérateur est de pouvoir produire des chaînes de caractères dynamiques (avec des parties qui ne sont pas connues au moment de leur codage) :"
   ]
  },
  {
   "cell_type": "code",
   "execution_count": null,
   "metadata": {},
   "outputs": [],
   "source": [
    "def afficher_resultat(resultat):\n",
    "    print(\"Le résulat de l'opération est %s.\" % resultat)"
   ]
  },
  {
   "cell_type": "code",
   "execution_count": null,
   "metadata": {},
   "outputs": [],
   "source": [
    "afficher_resultat(42)"
   ]
  },
  {
   "cell_type": "code",
   "execution_count": null,
   "metadata": {},
   "outputs": [],
   "source": [
    "afficher_resultat(print)"
   ]
  },
  {
   "cell_type": "markdown",
   "metadata": {},
   "source": [
    "Voici le détail de la syntaxe de l'opérateur modulo :"
   ]
  },
  {
   "cell_type": "code",
   "execution_count": null,
   "metadata": {},
   "outputs": [],
   "source": [
    "'%s' % 'test'"
   ]
  },
  {
   "cell_type": "code",
   "execution_count": null,
   "metadata": {},
   "outputs": [],
   "source": [
    "'%s' % 42"
   ]
  },
  {
   "cell_type": "code",
   "execution_count": null,
   "metadata": {},
   "outputs": [],
   "source": [
    "'%s%s' % (4, 2)"
   ]
  },
  {
   "cell_type": "code",
   "execution_count": null,
   "metadata": {},
   "outputs": [],
   "source": [
    "\"%(decimal)s%(unite)s = %(decimal)s * 10 + %(unite)s\" % {\"decimal\": 4, \"unite\": 2}"
   ]
  },
  {
   "cell_type": "code",
   "execution_count": null,
   "metadata": {},
   "outputs": [],
   "source": [
    "\"%d\" % 42.94"
   ]
  },
  {
   "cell_type": "code",
   "execution_count": null,
   "metadata": {},
   "outputs": [],
   "source": [
    "\"%f\" % 42"
   ]
  },
  {
   "cell_type": "code",
   "execution_count": null,
   "metadata": {},
   "outputs": [],
   "source": [
    "\"%6.2f\" % 42"
   ]
  },
  {
   "cell_type": "code",
   "execution_count": null,
   "metadata": {},
   "outputs": [],
   "source": [
    "\"%06.2f\" % 42"
   ]
  },
  {
   "cell_type": "code",
   "execution_count": null,
   "metadata": {},
   "outputs": [],
   "source": [
    "\"%-6.2f\" % 42"
   ]
  },
  {
   "cell_type": "code",
   "execution_count": null,
   "metadata": {},
   "outputs": [],
   "source": [
    "\"%+6.2f\" % 42"
   ]
  },
  {
   "cell_type": "code",
   "execution_count": null,
   "metadata": {},
   "outputs": [],
   "source": [
    "\"%6.2f\" % 4264263.123456"
   ]
  },
  {
   "cell_type": "markdown",
   "metadata": {},
   "source": [
    "A noter que la fonction modulo fonctionne comme celle de **sprintf** pour le C, modulo quelques ajouts fonctionnels et qu'il existe également la méthode format qui est similaire à celle permettant de formatter les chaînes de caractères en C++."
   ]
  },
  {
   "cell_type": "code",
   "execution_count": null,
   "metadata": {},
   "outputs": [],
   "source": [
    "\"{} {}\".format(4, 2)"
   ]
  },
  {
   "cell_type": "code",
   "execution_count": null,
   "metadata": {},
   "outputs": [],
   "source": [
    "\"{1} {0}\".format(4, 2)"
   ]
  },
  {
   "cell_type": "code",
   "execution_count": null,
   "metadata": {},
   "outputs": [],
   "source": [
    "\"{a} {b}\".format(a=4, b=2)"
   ]
  },
  {
   "cell_type": "code",
   "execution_count": null,
   "metadata": {},
   "outputs": [],
   "source": [
    "\"{0:.2f}\".format(42.345)"
   ]
  },
  {
   "cell_type": "code",
   "execution_count": null,
   "metadata": {},
   "outputs": [],
   "source": [
    "l = [1, 2, 3]\n",
    "\"{l[0]}\".format(l=l)"
   ]
  },
  {
   "cell_type": "code",
   "execution_count": null,
   "metadata": {},
   "outputs": [],
   "source": [
    "\"{l.append}\".format(l=l)"
   ]
  },
  {
   "cell_type": "code",
   "execution_count": null,
   "metadata": {},
   "outputs": [],
   "source": [
    "d = {\"a\": 1, \"b\": 2}\n",
    "\"{d[a]}\".format(d=d)"
   ]
  },
  {
   "cell_type": "code",
   "execution_count": null,
   "metadata": {},
   "outputs": [],
   "source": [
    "d = {\"a\": 1, \"b\": 2}\n",
    "\"{0[a]}\".format(d)"
   ]
  },
  {
   "cell_type": "code",
   "execution_count": null,
   "metadata": {},
   "outputs": [],
   "source": [
    "name = 'Fred'\n",
    "age = 42\n",
    "f'He said his name is {name} and he is {age} years old.'"
   ]
  },
  {
   "cell_type": "markdown",
   "metadata": {},
   "source": [
    "Octets"
   ]
  },
  {
   "cell_type": "code",
   "execution_count": null,
   "metadata": {},
   "outputs": [],
   "source": [
    "s = \"Ceci est une chaîne de caractères en €\""
   ]
  },
  {
   "cell_type": "code",
   "execution_count": null,
   "metadata": {},
   "outputs": [],
   "source": [
    "type(s)"
   ]
  },
  {
   "cell_type": "code",
   "execution_count": null,
   "metadata": {},
   "outputs": [],
   "source": [
    "b = s.encode(\"iso8859-15\")"
   ]
  },
  {
   "cell_type": "code",
   "execution_count": null,
   "metadata": {},
   "outputs": [],
   "source": [
    "b"
   ]
  },
  {
   "cell_type": "code",
   "execution_count": null,
   "metadata": {},
   "outputs": [],
   "source": [
    "type(b)"
   ]
  },
  {
   "cell_type": "code",
   "execution_count": null,
   "metadata": {},
   "outputs": [],
   "source": [
    "b.decode(\"latin9\")"
   ]
  },
  {
   "cell_type": "code",
   "execution_count": null,
   "metadata": {},
   "outputs": [],
   "source": [
    "b.decode(\"latin1\")"
   ]
  },
  {
   "cell_type": "code",
   "execution_count": null,
   "metadata": {},
   "outputs": [],
   "source": [
    "\"Ceci est une chaîne de caractères en €\".encode(\"iso8859-1\")"
   ]
  },
  {
   "cell_type": "code",
   "execution_count": null,
   "metadata": {},
   "outputs": [],
   "source": [
    "\"Ceci est une chaîne de caractères en €\".encode(\"latin1\")"
   ]
  },
  {
   "cell_type": "code",
   "execution_count": null,
   "metadata": {},
   "outputs": [],
   "source": [
    "\"Ceci est une chaîne de caractères en €\".encode(\"utf8\")"
   ]
  },
  {
   "cell_type": "code",
   "execution_count": null,
   "metadata": {},
   "outputs": [],
   "source": [
    "b'Ceci est une cha\\xc3\\xaene de caract\\xc3\\xa8res en \\xe2\\x82\\xac'.decode(\"utf-8\")"
   ]
  },
  {
   "cell_type": "code",
   "execution_count": null,
   "metadata": {},
   "outputs": [],
   "source": [
    "u\"Truc en Python 2\""
   ]
  },
  {
   "cell_type": "markdown",
   "metadata": {},
   "source": [
    "---"
   ]
  },
  {
   "cell_type": "markdown",
   "metadata": {},
   "source": [
    "Exercices:\n",
    "----------\n",
    "\n",
    "1. Compter le nombre de mots d'une phrase\n",
    "2. Supprimer le premier et le dernier mot d'une phrase.\n",
    "3. Faire une fonction qui prenne en paramètre deux nombres et qui écrive quel nombre est plus petit que l'autre.\n",
    "4. Faire une fonction qui prenne en paramètre un nombre et qui l'écrive en toutes lettres.\n",
    "\n",
    ">> Dans un premier temps, se **limiter** aux nombres de *0* à *9*"
   ]
  },
  {
   "cell_type": "code",
   "execution_count": null,
   "metadata": {},
   "outputs": [],
   "source": []
  }
 ],
 "metadata": {
  "kernelspec": {
   "display_name": "Python 3",
   "language": "python",
   "name": "python3"
  },
  "language_info": {
   "codemirror_mode": {
    "name": "ipython",
    "version": 3
   },
   "file_extension": ".py",
   "mimetype": "text/x-python",
   "name": "python",
   "nbconvert_exporter": "python",
   "pygments_lexer": "ipython3",
   "version": "3.8.2"
  }
 },
 "nbformat": 4,
 "nbformat_minor": 1
}
