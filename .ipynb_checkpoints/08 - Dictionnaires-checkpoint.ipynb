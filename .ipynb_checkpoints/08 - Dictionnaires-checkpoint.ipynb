{
 "cells": [
  {
   "cell_type": "markdown",
   "metadata": {},
   "source": [
    "Conteneurs\n",
    "==========\n",
    "\n",
    "Introduction\n",
    "------------\n",
    "\n",
    "Les conteneurs sont simplement des objets qui contiennent d'autres objets. On distingue :\n",
    "\n",
    "* la liste : conteneur modifiable d'objets ordonnés\n",
    "* le n-uplet : conteneur non modifiable d'objets ordonnés\n",
    "* l'ensemble : conteneur modifiable d'objets uniques et non ordonnés\n",
    "* le dictionnaire : conteneur modifiable d'objets ordonnés depuis Python 3.8\n",
    "\n",
    "Une donnée d'une liste ou d'un n-uplet sont associés à un indice, permettant de connaître leur position dans le conteneur. Pour la liste, il s'agit de la position de l'élément dans la liste, pour le n-uplet, cela a une signification implicite.\n",
    "\n",
    "Par exemple, un point dans un plan sera noté (1, 2) et on saura implicitement que x=1 et y=2. De la même manière, pour un point dans l'espace, (2, 1, 3) signifiera x=2, y=1 et z=3. La notion de tri n'a donc aucun sens pur un n-uplet, alors qu'elle en a un pour une liste.\n",
    "\n",
    "Une donnée d'un dictionnaire est associé à une clé, permettant de connaître la signification de la variable. Les clés ne sont pas triées entre elles, de même que les valeurs.\n",
    "\n",
    "Enfin, l'ensemble est un ensemble au sens mathématique du terme, mais au delà de la vision mathématique, il apporte énormément au point de vue purement algorithmique.\n",
    "\n",
    "L'ensemble de ces éléments permet de déterminer quel type de conteneur utiliser pour ses besoins.\n",
    "\n",
    "Pour aller plus loin, il faut regarder le module **collections**."
   ]
  },
  {
   "cell_type": "code",
   "execution_count": null,
   "metadata": {},
   "outputs": [],
   "source": [
    "import collections\n",
    "dir(collections)"
   ]
  },
  {
   "cell_type": "markdown",
   "metadata": {},
   "source": [
    "---\n",
    "\n",
    "Les dictionnaires\n",
    "-----------------\n",
    "\n",
    "Les dictionnaires sont des associations entre clés et valeurs. Il n'y a pas de relation d'ordre. Il n'y a pas non plus de notion d'indice.\n",
    "Ce sont les accolades qui sont le marqueurs des dictionnaires, lorsqu'elles sont utilisées avec les deux-points qui séparent clés et valeurs.\n",
    "\n",
    "Voici un dictionnaire vide :"
   ]
  },
  {
   "cell_type": "code",
   "execution_count": null,
   "metadata": {},
   "outputs": [],
   "source": [
    "d = {}"
   ]
  },
  {
   "cell_type": "markdown",
   "metadata": {},
   "source": [
    "Ici, l'accolade seule suffit. Un équivalent est :"
   ]
  },
  {
   "cell_type": "code",
   "execution_count": null,
   "metadata": {},
   "outputs": [],
   "source": [
    "d = dict()"
   ]
  },
  {
   "cell_type": "markdown",
   "metadata": {},
   "source": [
    "On peut créer un dictionnaire à partir d'un conteneurs de 2-uplets (le premier élément du 2-uplet étant la clé et le second la valeur):"
   ]
  },
  {
   "cell_type": "code",
   "execution_count": null,
   "metadata": {},
   "outputs": [],
   "source": [
    "dict([(\"a\", 1), (\"b\", 2), (\"c\", 3), (\"a\", 5)])"
   ]
  },
  {
   "cell_type": "code",
   "execution_count": null,
   "metadata": {},
   "outputs": [],
   "source": [
    "dict(((\"a\", 1), (\"b\", 2), (\"c\", 3), (\"a\", 5)))"
   ]
  },
  {
   "cell_type": "code",
   "execution_count": null,
   "metadata": {},
   "outputs": [],
   "source": [
    "dict({(\"a\", 1), (\"b\", 2), (\"c\", 3), (\"a\", 5)})"
   ]
  },
  {
   "cell_type": "code",
   "execution_count": null,
   "metadata": {},
   "outputs": [],
   "source": [
    "dict(([\"a\", 1], {\"b\", 2}, (\"c\", 3), (\"a\", 5)))"
   ]
  },
  {
   "cell_type": "markdown",
   "metadata": {},
   "source": [
    "Voici un dictionnaire contenant des données :"
   ]
  },
  {
   "cell_type": "code",
   "execution_count": null,
   "metadata": {},
   "outputs": [],
   "source": [
    "d = {'clé 1': 'valeur associée à la clé 1', 'clé 2': 'valeur associée à la clé 2'}"
   ]
  },
  {
   "cell_type": "markdown",
   "metadata": {},
   "source": [
    "Voici les méthodes du dictionnaire :"
   ]
  },
  {
   "cell_type": "code",
   "execution_count": null,
   "metadata": {},
   "outputs": [],
   "source": [
    "dir(d)"
   ]
  },
  {
   "cell_type": "markdown",
   "metadata": {},
   "source": [
    "Les méthodes suivantes sont utiles :\n",
    "\n",
    "* la méthode **get** permet de récupérer une valeur dans un dictionnaire, si elle existe :"
   ]
  },
  {
   "cell_type": "code",
   "execution_count": null,
   "metadata": {},
   "outputs": [],
   "source": [
    "print(d.get('clé 1'))"
   ]
  },
  {
   "cell_type": "code",
   "execution_count": null,
   "metadata": {},
   "outputs": [],
   "source": [
    "print(d.get('clé 3'))"
   ]
  },
  {
   "cell_type": "code",
   "execution_count": null,
   "metadata": {},
   "outputs": [],
   "source": [
    "print(d.get('clé 1', 'valeur par défaut'))"
   ]
  },
  {
   "cell_type": "code",
   "execution_count": null,
   "metadata": {},
   "outputs": [],
   "source": [
    "print(d.get('clé 3', 'valeur par défaut'))"
   ]
  },
  {
   "cell_type": "code",
   "execution_count": null,
   "metadata": {},
   "outputs": [],
   "source": [
    "d[\"clé 1\"]"
   ]
  },
  {
   "cell_type": "code",
   "execution_count": null,
   "metadata": {},
   "outputs": [],
   "source": [
    "d[\"clé 3\"]"
   ]
  },
  {
   "cell_type": "markdown",
   "metadata": {},
   "source": [
    "* En Python2, la méthode **has_key** permet de savoir si une clé existe dans un dictionnaire, elle n'existe plus car elle faisait doublon avec le mot clé **in** :"
   ]
  },
  {
   "cell_type": "code",
   "execution_count": null,
   "metadata": {},
   "outputs": [],
   "source": [
    "'clé 1' in d"
   ]
  },
  {
   "cell_type": "code",
   "execution_count": null,
   "metadata": {},
   "outputs": [],
   "source": [
    "'clé 3' in d"
   ]
  },
  {
   "cell_type": "markdown",
   "metadata": {},
   "source": [
    "* la méthode **pop** permet de renvoyer la valeur associée à la clé passée en paramètre."
   ]
  },
  {
   "cell_type": "code",
   "execution_count": null,
   "metadata": {},
   "outputs": [],
   "source": [
    "d.pop(\"clé 1\")"
   ]
  },
  {
   "cell_type": "code",
   "execution_count": null,
   "metadata": {},
   "outputs": [],
   "source": [
    "print(d)"
   ]
  },
  {
   "cell_type": "markdown",
   "metadata": {},
   "source": [
    "* la méthode **popitem** permet de renvoyer un item, c'est à dire un 2-uplet (clé, valeur) au hasard, comme la méthode pop d'une liste. A noter la différence de sémantique. On dit au hasard, parce que le dictionnaire n'a pas de relation d'ordre et qu'il n'est pas possible de prédire l'ordre de sortie des éléments."
   ]
  },
  {
   "cell_type": "code",
   "execution_count": null,
   "metadata": {},
   "outputs": [],
   "source": [
    "d.popitem()"
   ]
  },
  {
   "cell_type": "code",
   "execution_count": null,
   "metadata": {},
   "outputs": [],
   "source": [
    "print(d)"
   ]
  },
  {
   "cell_type": "markdown",
   "metadata": {},
   "source": [
    "* la méthode **update** permet de mettre à jour un dictionnaire à partir des valeurs du dictionnaire passé en paramètres : les valeurs correspondant aux nouvelles clés sont ajoutées, celles correspondant aux clés déjà existantes sont mises à jour."
   ]
  },
  {
   "cell_type": "code",
   "execution_count": null,
   "metadata": {},
   "outputs": [],
   "source": [
    "d.update({1: \"1\", \"2\": 2, str.lower: str.upper})\n",
    "print(d)"
   ]
  },
  {
   "cell_type": "markdown",
   "metadata": {},
   "source": [
    "Exercices\n",
    "---------\n",
    "\n",
    "Représenter ces données à l'aide d'un dictionnaire\n",
    "\n",
    "Le groupe est composé de Joe Satriani, Stuart Hamm, Jeff Campitelli.\n",
    "\n",
    "Décomposer les noms et prénoms dans un dictionnaire."
   ]
  },
  {
   "cell_type": "code",
   "execution_count": null,
   "metadata": {},
   "outputs": [],
   "source": [
    "groupe = [\n",
    "    {\n",
    "        \"nom\": \"Satriani\",\n",
    "        \"prenom\": \"Joe\",\n",
    "        \"role\": \"guitariste\",\n",
    "    }, {\n",
    "        \"nom\": \"Hamm\",\n",
    "        \"prenom\": \"Stuart\",\n",
    "        \"role\": \"bassiste\",\n",
    "    }, {\n",
    "        \"nom\": \"Campitelli\",\n",
    "        \"prenom\": \"Jeff\",\n",
    "        \"role\": \"batteur\",\n",
    "    }, {\n",
    "        \"nom\": \"King\",\n",
    "        \"prenom\": \"B.B\",\n",
    "        \"role\": \"guitariste\",\n",
    "    },\n",
    "]\n",
    "\n",
    "for person in groupe:\n",
    "    print(person)"
   ]
  },
  {
   "cell_type": "code",
   "execution_count": null,
   "metadata": {},
   "outputs": [],
   "source": [
    "for person in groupe:\n",
    "    print(person[\"role\"])"
   ]
  },
  {
   "cell_type": "code",
   "execution_count": null,
   "metadata": {},
   "outputs": [],
   "source": [
    "groupe_list = [[\"Satriani\",\n",
    "           \"Joe\",\n",
    "           \"guitariste\",],\n",
    "          [\"Hamm\",\n",
    "           \"Stuart\",\n",
    "           \"bassiste\",]]\n",
    "\n",
    "for person in groupe_list:\n",
    "    print(person)"
   ]
  },
  {
   "cell_type": "markdown",
   "metadata": {},
   "source": [
    "Les dictionnaires sont particuliers, puisqu'ils sont un conteneurs d'associations entre une clé et une valeur. Ils peuvent ainsi être vus comme un ensemble de 2-uplets.\n",
    "\n",
    "* la méthode **items** permet de renvoyer ces couples (clé, valeur) ;\n",
    "* la méthode **keys** permet de renvoyer uniquement les clés ;\n",
    "* la méthode **values** permet de renvoyer uniquement les valeurs.\n",
    "\n",
    "L'ensemble de ce que l'on vient de voir permet de manipuler aisément les données et de les représenter de la manière qui sera la plus utile à l'algorithme."
   ]
  },
  {
   "cell_type": "code",
   "execution_count": null,
   "metadata": {},
   "outputs": [],
   "source": [
    "d.items()"
   ]
  },
  {
   "cell_type": "code",
   "execution_count": null,
   "metadata": {},
   "outputs": [],
   "source": [
    "d.keys()"
   ]
  },
  {
   "cell_type": "code",
   "execution_count": null,
   "metadata": {},
   "outputs": [],
   "source": [
    "d.values()"
   ]
  },
  {
   "cell_type": "code",
   "execution_count": null,
   "metadata": {},
   "outputs": [],
   "source": [
    "for k in d.keys():\n",
    "    print(k)"
   ]
  },
  {
   "cell_type": "code",
   "execution_count": null,
   "metadata": {},
   "outputs": [],
   "source": [
    "for v in d.values():\n",
    "    print(v)"
   ]
  },
  {
   "cell_type": "code",
   "execution_count": null,
   "metadata": {},
   "outputs": [],
   "source": [
    "for k, v in d.items():\n",
    "    print('%s: %s' % (k, v))"
   ]
  },
  {
   "cell_type": "markdown",
   "metadata": {},
   "source": [
    "Itération ordonnée\n",
    "--"
   ]
  },
  {
   "cell_type": "code",
   "execution_count": null,
   "metadata": {},
   "outputs": [],
   "source": [
    "d = {\n",
    "    \"bidule\": 42,\n",
    "    \"truc\": 34,\n",
    "}"
   ]
  },
  {
   "cell_type": "code",
   "execution_count": null,
   "metadata": {},
   "outputs": [],
   "source": [
    "for k in sorted(d.keys()):\n",
    "    print('{}: {}'.format(k, d[k]))"
   ]
  },
  {
   "cell_type": "code",
   "execution_count": null,
   "metadata": {},
   "outputs": [],
   "source": [
    "import operator\n",
    "for k, v in sorted(d.items(), key=operator.itemgetter(0)):\n",
    "    print('{}: {}'.format(k, v))"
   ]
  },
  {
   "cell_type": "code",
   "execution_count": null,
   "metadata": {},
   "outputs": [],
   "source": [
    "import operator\n",
    "for k, v in sorted(d.items(), key=operator.itemgetter(1)):\n",
    "    print('{}: {}'.format(k, v))"
   ]
  },
  {
   "cell_type": "code",
   "execution_count": null,
   "metadata": {},
   "outputs": [],
   "source": [
    "help(sorted)"
   ]
  },
  {
   "cell_type": "code",
   "execution_count": null,
   "metadata": {},
   "outputs": [],
   "source": []
  }
 ],
 "metadata": {
  "kernelspec": {
   "display_name": "Python 3",
   "language": "python",
   "name": "python3"
  },
  "language_info": {
   "codemirror_mode": {
    "name": "ipython",
    "version": 3
   },
   "file_extension": ".py",
   "mimetype": "text/x-python",
   "name": "python",
   "nbconvert_exporter": "python",
   "pygments_lexer": "ipython3",
   "version": "3.8.2"
  }
 },
 "nbformat": 4,
 "nbformat_minor": 1
}
