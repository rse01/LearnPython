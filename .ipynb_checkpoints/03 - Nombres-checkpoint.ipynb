{
 "cells": [
  {
   "cell_type": "markdown",
   "metadata": {},
   "source": [
    "Python : Travailler avec des nombres\n",
    "====================================\n",
    "\n",
    "Introduction\n",
    "------------\n",
    "\n",
    "La console python peut être utilisée comme simple calculatrice : On saisit une opération et la console renvoie le résultat.\n",
    "\n",
    "La grammaire du langage reconnait les caractères utilisés (nommés littéraux) et est capable de typer les données en fonction de cela :"
   ]
  },
  {
   "cell_type": "code",
   "execution_count": null,
   "metadata": {},
   "outputs": [],
   "source": [
    "type(42)"
   ]
  },
  {
   "cell_type": "code",
   "execution_count": null,
   "metadata": {},
   "outputs": [],
   "source": [
    "type(42.)"
   ]
  },
  {
   "cell_type": "code",
   "execution_count": null,
   "metadata": {},
   "outputs": [],
   "source": [
    "type(42j)"
   ]
  },
  {
   "cell_type": "code",
   "execution_count": null,
   "metadata": {},
   "outputs": [],
   "source": [
    "type(4e2)"
   ]
  },
  {
   "cell_type": "code",
   "execution_count": null,
   "metadata": {},
   "outputs": [],
   "source": [
    "print(4e2)"
   ]
  },
  {
   "cell_type": "markdown",
   "metadata": {},
   "source": [
    "***\n",
    "Attention ! En Python2, une opération entre deux nombres d'un même type renvoie un résultat du même type\n",
    "***"
   ]
  },
  {
   "cell_type": "code",
   "execution_count": null,
   "metadata": {},
   "outputs": [],
   "source": [
    "print(99/100)"
   ]
  },
  {
   "cell_type": "markdown",
   "metadata": {},
   "source": [
    "Opérations\n",
    "----------\n",
    "\n",
    "Les opérations mathématiques sont faites par le biais d'opérateurs. On distingue :"
   ]
  },
  {
   "cell_type": "code",
   "execution_count": null,
   "metadata": {},
   "outputs": [],
   "source": [
    "4 + 2"
   ]
  },
  {
   "cell_type": "code",
   "execution_count": null,
   "metadata": {},
   "outputs": [],
   "source": [
    "4 - 2"
   ]
  },
  {
   "cell_type": "code",
   "execution_count": null,
   "metadata": {},
   "outputs": [],
   "source": [
    "5 * 2"
   ]
  },
  {
   "cell_type": "code",
   "execution_count": null,
   "metadata": {},
   "outputs": [],
   "source": [
    "5 / 2"
   ]
  },
  {
   "cell_type": "code",
   "execution_count": null,
   "metadata": {},
   "outputs": [],
   "source": [
    "5 // 2"
   ]
  },
  {
   "cell_type": "code",
   "execution_count": null,
   "metadata": {},
   "outputs": [],
   "source": [
    "5 % 2"
   ]
  },
  {
   "cell_type": "code",
   "execution_count": null,
   "metadata": {},
   "outputs": [],
   "source": [
    "5./2."
   ]
  },
  {
   "cell_type": "code",
   "execution_count": null,
   "metadata": {},
   "outputs": [],
   "source": [
    "5.//2."
   ]
  },
  {
   "cell_type": "code",
   "execution_count": null,
   "metadata": {},
   "outputs": [],
   "source": [
    "4 ** 2"
   ]
  },
  {
   "cell_type": "code",
   "execution_count": null,
   "metadata": {},
   "outputs": [],
   "source": [
    "4 < 2"
   ]
  },
  {
   "cell_type": "code",
   "execution_count": null,
   "metadata": {},
   "outputs": [],
   "source": [
    "4 > 2"
   ]
  },
  {
   "cell_type": "code",
   "execution_count": null,
   "metadata": {},
   "outputs": [],
   "source": [
    "4 >= 2"
   ]
  },
  {
   "cell_type": "code",
   "execution_count": null,
   "metadata": {},
   "outputs": [],
   "source": [
    "4 <= 2"
   ]
  },
  {
   "cell_type": "code",
   "execution_count": null,
   "metadata": {},
   "outputs": [],
   "source": [
    "4 == 2"
   ]
  },
  {
   "cell_type": "code",
   "execution_count": null,
   "metadata": {},
   "outputs": [],
   "source": [
    "4 != 2"
   ]
  },
  {
   "cell_type": "code",
   "execution_count": null,
   "metadata": {},
   "outputs": [],
   "source": [
    "4 >> 2  # 4 = 100 en binaire, le décalage à droite donne 0b1, soit 1"
   ]
  },
  {
   "cell_type": "code",
   "execution_count": null,
   "metadata": {},
   "outputs": [],
   "source": [
    "4 << 2  # 100 en binaire, le décalage à gauche va donner 0b10000, soit 16"
   ]
  },
  {
   "cell_type": "code",
   "execution_count": null,
   "metadata": {},
   "outputs": [],
   "source": [
    "3 >> 2"
   ]
  },
  {
   "cell_type": "markdown",
   "metadata": {},
   "source": [
    "***\n",
    "Ce qu'il est important de comprendre :\n",
    "\n",
    "* dans la plupart des langages de à bas niveau, l'opération est programmée au coeur du langage.\n",
    "* en Python, il n'en est rien : la grammaire lie simplement un opérateur à une fonction spéciale\n",
    "    * si la fonction spéciale existe :\n",
    "        * cela signifie que l'opérateur est supportée\n",
    "        * la méthode spéciale est alors exécutée et c'est elle qui produit le résultat\n",
    "\n",
    "Par contre, comme dans tous les langages :\n",
    "\n",
    "* l'ordre de priorité des opérateurs est décidé par la grammaire\n",
    "* cet ordre ne peut être modifié\n",
    "\n",
    "L'avantage de ce système est que les opérateurs peuvent être utilisée pour n'importe quel type d'objet.\n",
    "Si on veut implémenter un opérateur dans une de nos classes, il suffit d'écrire la méthode spéciale.\n",
    "\n",
    "---\n",
    "\n",
    "On distingue plusieurs type d'opérateurs :\n",
    "\n",
    "* les opérateurs unaires :\n",
    "    * il n'y a qu'un seul opérande\n",
    "    * exemple: -1\n",
    "* les opérateurs binaires :\n",
    "    * il y a deux opérandes\n",
    "    * exemple : 1 - 2\n",
    "\n",
    "Dans le premier cas, si la méthode spéciale n'existe pas pour l'objet en question, alors le programme est en erreur.\n",
    "\n",
    "Dans le second cas :\n",
    "\n",
    "* le programme va chercher la méthode spéciale dans l'opérande de gauche\n",
    "    * si elle existe, le programme utilise la méthode\n",
    "    * si elle fonctionne, le programme renvoie le résultat et s'arrête là\n",
    "    * si la méthode n'existe pas pour l'opérande de gauche ou cette méthode ne fonctionne pas, il va la chercher dans l'opérande de droite\n",
    "    * si elle n'existe pas, le programme génère une exception\n",
    "    * sinon, il l'exécute\n",
    "    * si elle fonctionne, le programme renvoie le résultat et s'arrête là\n",
    "    * sinon, le programme génère une exception"
   ]
  },
  {
   "cell_type": "code",
   "execution_count": null,
   "metadata": {},
   "outputs": [],
   "source": [
    "\"4\" + \"2\""
   ]
  },
  {
   "cell_type": "code",
   "execution_count": null,
   "metadata": {},
   "outputs": [],
   "source": [
    "\"4\" * 2"
   ]
  },
  {
   "cell_type": "code",
   "execution_count": null,
   "metadata": {},
   "outputs": [],
   "source": [
    "2 * \"4\""
   ]
  },
  {
   "cell_type": "code",
   "execution_count": null,
   "metadata": {},
   "outputs": [],
   "source": [
    "4/2."
   ]
  },
  {
   "cell_type": "code",
   "execution_count": null,
   "metadata": {},
   "outputs": [],
   "source": [
    "4 / \"2\""
   ]
  },
  {
   "cell_type": "markdown",
   "metadata": {},
   "source": [
    "---\n",
    "\n",
    "Mathématiques\n",
    "-------------\n",
    "\n",
    "Python dispose d'un module **math** qui contient l'ensemble des fonctions mathématiques classique (trigonométrie, exponentielle, ...)\n",
    "\n",
    "* importer ce module\n",
    "* afficher ses fonctions"
   ]
  },
  {
   "cell_type": "code",
   "execution_count": null,
   "metadata": {},
   "outputs": [],
   "source": [
    "import math"
   ]
  },
  {
   "cell_type": "code",
   "execution_count": null,
   "metadata": {},
   "outputs": [],
   "source": [
    "dir(math)"
   ]
  },
  {
   "cell_type": "markdown",
   "metadata": {},
   "source": [
    "Il existe aussi des primitives utiles pour gérer des nombres, comme **abs**, **divmod**, **int**, **min**, **max**, **pow**, **range**, **round**, **sum**:"
   ]
  },
  {
   "cell_type": "code",
   "execution_count": null,
   "metadata": {},
   "outputs": [],
   "source": [
    "print(abs(42), abs(-42))"
   ]
  },
  {
   "cell_type": "markdown",
   "metadata": {},
   "source": [
    "En Python, rien n'est magique. Les primitives existent car lorsque Python se lance, il importe le module **builtins** qui les contient toutes."
   ]
  },
  {
   "cell_type": "code",
   "execution_count": null,
   "metadata": {},
   "outputs": [],
   "source": [
    "from builtins import abs, divmod, int, min, max, pow, range, round, sum"
   ]
  },
  {
   "cell_type": "code",
   "execution_count": null,
   "metadata": {},
   "outputs": [],
   "source": [
    "help(abs)"
   ]
  },
  {
   "cell_type": "code",
   "execution_count": null,
   "metadata": {},
   "outputs": [],
   "source": [
    "help(divmod)"
   ]
  },
  {
   "cell_type": "code",
   "execution_count": null,
   "metadata": {},
   "outputs": [],
   "source": [
    "help(int)"
   ]
  },
  {
   "cell_type": "code",
   "execution_count": null,
   "metadata": {},
   "outputs": [],
   "source": [
    "help(min)"
   ]
  },
  {
   "cell_type": "code",
   "execution_count": null,
   "metadata": {},
   "outputs": [],
   "source": [
    "min(4, 3, 6, 1, 3, 6, 8)"
   ]
  },
  {
   "cell_type": "code",
   "execution_count": null,
   "metadata": {},
   "outputs": [],
   "source": [
    "help(pow)"
   ]
  },
  {
   "cell_type": "code",
   "execution_count": null,
   "metadata": {},
   "outputs": [],
   "source": [
    "help(round)"
   ]
  },
  {
   "cell_type": "code",
   "execution_count": null,
   "metadata": {},
   "outputs": [],
   "source": [
    "round(42.34)"
   ]
  },
  {
   "cell_type": "code",
   "execution_count": null,
   "metadata": {},
   "outputs": [],
   "source": [
    "round(42.34, 0)"
   ]
  },
  {
   "cell_type": "markdown",
   "metadata": {},
   "source": [
    "Il existe également un module **statistics** contenant les fonctions usuelles (moyenne, médiane, variance, ...).\n",
    "\n",
    "* importer ce module\n",
    "* trouver les méthodes permettant de calculer la médiane\n",
    "* calculer les différentes médianes de la liste précédentes"
   ]
  },
  {
   "cell_type": "code",
   "execution_count": null,
   "metadata": {},
   "outputs": [],
   "source": [
    "l = [0.34, 0.36, 0.42, 0.45]"
   ]
  },
  {
   "cell_type": "code",
   "execution_count": null,
   "metadata": {},
   "outputs": [],
   "source": [
    "import statistics"
   ]
  },
  {
   "cell_type": "code",
   "execution_count": null,
   "metadata": {},
   "outputs": [],
   "source": [
    "dir(statistics)"
   ]
  },
  {
   "cell_type": "code",
   "execution_count": null,
   "metadata": {},
   "outputs": [],
   "source": [
    "statistics.median(l)  # Comme il y a un nombre pair d'élément, renvoie la moyenne des deux éléments au milieu"
   ]
  },
  {
   "cell_type": "code",
   "execution_count": null,
   "metadata": {},
   "outputs": [],
   "source": [
    "statistics.median_high(l)  # Comme il y a un nombre pair d'élément, renvoie l'élément après le milieu"
   ]
  },
  {
   "cell_type": "code",
   "execution_count": null,
   "metadata": {},
   "outputs": [],
   "source": [
    "statistics.median_low(l)  # Comme il y a un nombre pair d'élément, renvoie l'élément avant le milieu"
   ]
  },
  {
   "cell_type": "code",
   "execution_count": null,
   "metadata": {},
   "outputs": [],
   "source": [
    "statistics.mean(l)  # calcul de la moyenne"
   ]
  },
  {
   "cell_type": "code",
   "execution_count": null,
   "metadata": {},
   "outputs": [],
   "source": []
  }
 ],
 "metadata": {
  "kernelspec": {
   "display_name": "Python 3",
   "language": "python",
   "name": "python3"
  },
  "language_info": {
   "codemirror_mode": {
    "name": "ipython",
    "version": 3
   },
   "file_extension": ".py",
   "mimetype": "text/x-python",
   "name": "python",
   "nbconvert_exporter": "python",
   "pygments_lexer": "ipython3",
   "version": "3.8.2"
  }
 },
 "nbformat": 4,
 "nbformat_minor": 1
}
