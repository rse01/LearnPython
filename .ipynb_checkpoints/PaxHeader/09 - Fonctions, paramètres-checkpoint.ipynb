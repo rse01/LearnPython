80 path=Base_V4/.ipynb_checkpoints/09 - Fonctions, paramètres-checkpoint.ipynb
27 mtime=1618441686.702496
