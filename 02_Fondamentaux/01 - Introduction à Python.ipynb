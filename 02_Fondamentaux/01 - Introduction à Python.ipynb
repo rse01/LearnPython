{
 "cells": [
  {
   "cell_type": "markdown",
   "metadata": {},
   "source": [
    "Le langage de programmation Python\n",
    "==================================\n",
    "\n",
    "Introduction\n",
    "------------\n",
    "\n",
    "Python est un langage de programmation créé en 1990 et dont la première version libre a été publiée sur le forum Usenet en 1991.\n",
    "\n",
    "Il s'agit d'un langage interprété et moderne :\n",
    "\n",
    "* **libre**\n",
    "    * licence proche de la BSD\n",
    "* **gratuit**\n",
    "    * téléchargable sur *python.org*\n",
    "* **interprété**\n",
    "    * sa machine virtuelle de référence est CPython, une implémentation en C\n",
    "    * il existe aussi Jython (au dessus d'une JVM)\n",
    "    * ainsi que IronPython (pour .NET)\n",
    "* **de haut niveau**\n",
    "    * algorithmique proche du conceptuel ou du langage humain\n",
    "    * résoud pour nous les problématiques matérielles\n",
    "* **multi-paradigme**\n",
    "    * impératif\n",
    "    * objet\n",
    "    * fonctionnel\n",
    "    * ...\n",
    "* **multi-plateformes**\n",
    "    * supercalculateurs\n",
    "    * unix\n",
    "    * linux\n",
    "    * windows\n",
    "    * ...\n",
    "* **à typage dynamique fort**\n",
    "    * cf plus bas\n",
    "* **très simple d'utilisation**\n",
    "    * la marche d'entrée est relativement basse\n",
    "    * par nature, des développeurs de différents horizons peuvent rapprocher son fonctionnement à ce qu'ils connaissent déjà\n",
    "* **flexible**\n",
    "    * ne contraint pas les développeurs\n",
    "    * offre beaucoup de possibilités pour résoudre les problématiques\n",
    "* **couverture technique et fonctionnelle extrêmement large**\n",
    "    * piles incluses\n",
    "    * bibliothèques externes packagées"
   ]
  },
  {
   "cell_type": "code",
   "execution_count": null,
   "metadata": {},
   "outputs": [],
   "source": [
    "print('Hello World')"
   ]
  },
  {
   "cell_type": "markdown",
   "metadata": {},
   "source": [
    "Déclarer une variable\n",
    "---------------------"
   ]
  },
  {
   "cell_type": "code",
   "execution_count": null,
   "metadata": {},
   "outputs": [],
   "source": [
    "nom_variable = \"valeur de la variable\""
   ]
  },
  {
   "cell_type": "markdown",
   "metadata": {},
   "source": [
    "Le signe **=** est un opérateur, il s'agit de l'opérateur d'affectation.\n",
    "\n",
    "* l'opérande gauche est le nom de la variable, c'est à dire le contenant\n",
    "* l'opérande droite est la valeur de la variable, c'est à dire le contenu\n",
    "\n",
    "Cette valeur est un objet Python.\n",
    "\n",
    "En Python, tout est objet, que ce soit un nombre, une chaîne de caractère ou même une fonction ou une classe.\n",
    "\n",
    "Pour la suite du programme, à chaque fois que l'on utilise le nom de la variable, l'interpréteur va chercher sa valeur :"
   ]
  },
  {
   "cell_type": "code",
   "execution_count": null,
   "metadata": {},
   "outputs": [],
   "source": [
    "print(nom_variable)"
   ]
  },
  {
   "cell_type": "markdown",
   "metadata": {},
   "source": [
    "Une nom de variable peut ainsi être utilisé comme opérande de droite :"
   ]
  },
  {
   "cell_type": "code",
   "execution_count": null,
   "metadata": {},
   "outputs": [],
   "source": [
    "a = nom_variable"
   ]
  },
  {
   "cell_type": "markdown",
   "metadata": {},
   "source": [
    "Ici, **a** et **nom_variable** sont deux contenant désignant le même contenu.\n",
    "\n",
    "En termes techniques, on dit qu'il s'agit de deux pointeurs vers le même objet.\n",
    "\n",
    "Ceci se vérifie ainsi :"
   ]
  },
  {
   "cell_type": "code",
   "execution_count": null,
   "metadata": {},
   "outputs": [],
   "source": [
    "a is nom_variable"
   ]
  },
  {
   "cell_type": "markdown",
   "metadata": {},
   "source": [
    "L'opérande de droite peut être une expression. Elle est alors évaluée avant d'être affectée :"
   ]
  },
  {
   "cell_type": "code",
   "execution_count": null,
   "metadata": {},
   "outputs": [],
   "source": [
    "a = nom_variable * 2"
   ]
  },
  {
   "cell_type": "code",
   "execution_count": null,
   "metadata": {},
   "outputs": [],
   "source": [
    "print(a)"
   ]
  },
  {
   "cell_type": "markdown",
   "metadata": {},
   "source": [
    "Une des caractéristiques du langage Python est que le type de l'objet est porté par l'objet et non le nom de sa variable.\n",
    "\n",
    "Ainsi, une variable peut, au cours de son existence, changer de type :"
   ]
  },
  {
   "cell_type": "code",
   "execution_count": null,
   "metadata": {},
   "outputs": [],
   "source": [
    "a = 2 + 4 * 100 ** (1/2)"
   ]
  },
  {
   "cell_type": "code",
   "execution_count": null,
   "metadata": {},
   "outputs": [],
   "source": [
    "print(a)"
   ]
  },
  {
   "cell_type": "markdown",
   "metadata": {},
   "source": [
    "C'est ce que l'on entend lorsque l'on dit que **Python est un langage dynamique**.\n",
    "\n",
    "Ceci dit, contrairement à PHP, il dispose d'un typage fort :"
   ]
  },
  {
   "cell_type": "code",
   "execution_count": null,
   "metadata": {},
   "outputs": [],
   "source": [
    "entier = 42\n",
    "chaine = \"42\"\n",
    "flottant = 42.0\n",
    "entier is chaine"
   ]
  },
  {
   "cell_type": "code",
   "execution_count": null,
   "metadata": {},
   "outputs": [],
   "source": [
    "entier is flottant"
   ]
  },
  {
   "cell_type": "code",
   "execution_count": null,
   "metadata": {},
   "outputs": [],
   "source": [
    "entier == chaine"
   ]
  },
  {
   "cell_type": "code",
   "execution_count": null,
   "metadata": {},
   "outputs": [],
   "source": [
    "entier == flottant"
   ]
  },
  {
   "cell_type": "markdown",
   "metadata": {},
   "source": [
    "***\n",
    "Pour supprimer une variable, il suffit d'utiliser le mot clé **del**."
   ]
  },
  {
   "cell_type": "code",
   "execution_count": null,
   "metadata": {},
   "outputs": [],
   "source": [
    "del nom_variable"
   ]
  },
  {
   "cell_type": "markdown",
   "metadata": {},
   "source": [
    "Cette instruction détruit le pointeur qui n'existe alors plus :"
   ]
  },
  {
   "cell_type": "code",
   "execution_count": null,
   "metadata": {},
   "outputs": [],
   "source": [
    "print(nom_variable)"
   ]
  },
  {
   "cell_type": "markdown",
   "metadata": {},
   "source": [
    "Par contre, l'objet existe toujours. Ainsi, si deux pointeurs pointent vers le même objet, le fait qu'un des pointeurs soit détruit ne change rien pour l'autre pointeur.\n",
    "\n",
    "Python étant un langage de haut niveau, il dispose d'un ramasse-miettes qui se charge de faire le ménage. Chaque objet dispose d'un compteur de référence. Il sait donc à tout instant combien de pointeurs pointent vers lui.\n",
    "\n",
    "Lorsqu'il n'y a plus aucun pointeur qui pointe vers un objet, ce dernier peut alors être supprimé par le ramasse miette lorsqu'il passera par là, mais il est impossible de prédire quand cela se produira. Ce processus est géré de manière optimale par la machine virtuelle Python.\n",
    "\n",
    "Type d'une variable\n",
    "-------------------\n",
    "\n",
    "Une primitive extrêmement importante permet de connaître le type de la variable :"
   ]
  },
  {
   "cell_type": "code",
   "execution_count": null,
   "metadata": {},
   "outputs": [],
   "source": [
    "type('variable')"
   ]
  },
  {
   "cell_type": "markdown",
   "metadata": {},
   "source": [
    "C'est le contenu qui contient le type de la variable.\n",
    "\n",
    "Ici, on a utilisé des *guillemets* : on a dont affaire à une chaîne de caractères, dont le type est **str**."
   ]
  },
  {
   "cell_type": "code",
   "execution_count": null,
   "metadata": {},
   "outputs": [],
   "source": [
    "type(42)"
   ]
  },
  {
   "cell_type": "code",
   "execution_count": null,
   "metadata": {},
   "outputs": [],
   "source": [
    "type(42.)"
   ]
  },
  {
   "cell_type": "code",
   "execution_count": null,
   "metadata": {},
   "outputs": [],
   "source": [
    "type(42j)"
   ]
  },
  {
   "cell_type": "code",
   "execution_count": null,
   "metadata": {},
   "outputs": [],
   "source": [
    "type('42')"
   ]
  },
  {
   "cell_type": "code",
   "execution_count": null,
   "metadata": {},
   "outputs": [],
   "source": [
    "type(\"42\")"
   ]
  },
  {
   "cell_type": "code",
   "execution_count": null,
   "metadata": {},
   "outputs": [],
   "source": [
    "type(\"\"\"\n",
    "        42\n",
    "\"\"\")"
   ]
  },
  {
   "cell_type": "code",
   "execution_count": null,
   "metadata": {},
   "outputs": [],
   "source": [
    "type(b'42')"
   ]
  },
  {
   "cell_type": "code",
   "execution_count": null,
   "metadata": {},
   "outputs": [],
   "source": [
    "type([])"
   ]
  },
  {
   "cell_type": "code",
   "execution_count": null,
   "metadata": {},
   "outputs": [],
   "source": [
    "type(())"
   ]
  },
  {
   "cell_type": "code",
   "execution_count": null,
   "metadata": {},
   "outputs": [],
   "source": [
    "type({})"
   ]
  },
  {
   "cell_type": "code",
   "execution_count": null,
   "metadata": {},
   "outputs": [],
   "source": [
    "type(set())"
   ]
  },
  {
   "cell_type": "code",
   "execution_count": null,
   "metadata": {},
   "outputs": [],
   "source": [
    "type({1: \"a\", 2: \"b\"})"
   ]
  },
  {
   "cell_type": "code",
   "execution_count": null,
   "metadata": {},
   "outputs": [],
   "source": [
    "type({1, 2, 3})"
   ]
  },
  {
   "cell_type": "code",
   "execution_count": null,
   "metadata": {},
   "outputs": [],
   "source": [
    "type(type), type(int), type(str)"
   ]
  },
  {
   "cell_type": "markdown",
   "metadata": {},
   "source": [
    "Se débrouiller tout seul avec Python\n",
    "------------------------------------\n",
    "\n",
    "On a vu la primitive **type**, il existe également deux autres primitives très utiles qui sont **dir** et **help**."
   ]
  },
  {
   "cell_type": "code",
   "execution_count": null,
   "metadata": {},
   "outputs": [],
   "source": [
    "dir([])"
   ]
  },
  {
   "cell_type": "markdown",
   "metadata": {},
   "source": [
    "On peut voir que la liste dispose d'une méthode **sort**. En Python, tout est objet : une méthode est également un objet :"
   ]
  },
  {
   "cell_type": "code",
   "execution_count": null,
   "metadata": {},
   "outputs": [],
   "source": [
    "[].sort"
   ]
  },
  {
   "cell_type": "markdown",
   "metadata": {},
   "source": [
    "Python renvoie ici le pointeur vers la méthode sort de la liste crée à la volée. Ce pointeur pointe vers la méthode de l'objet liste qui est elle aussi un objet.\n",
    "\n",
    "Vu que c'est un objet, on peut l'utiliser en tant qu'argument de la fonction **help** :"
   ]
  },
  {
   "cell_type": "code",
   "execution_count": null,
   "metadata": {},
   "outputs": [],
   "source": [
    "help([].sort)"
   ]
  },
  {
   "cell_type": "markdown",
   "metadata": {},
   "source": [
    "Voici un cas d'utilisation. On commence par déclarer une liste :"
   ]
  },
  {
   "cell_type": "code",
   "execution_count": null,
   "metadata": {},
   "outputs": [],
   "source": [
    "l = [5, 2, 7, 0, 1, 8, 9, 3, 6, 4]"
   ]
  },
  {
   "cell_type": "markdown",
   "metadata": {},
   "source": [
    "On trie la liste :"
   ]
  },
  {
   "cell_type": "code",
   "execution_count": null,
   "metadata": {},
   "outputs": [],
   "source": [
    "l.sort()"
   ]
  },
  {
   "cell_type": "markdown",
   "metadata": {},
   "source": [
    "La commande précédente n'a absolument rien renvoyé. Par contre, elle a modifié la variable elle-même.\n",
    "\n",
    "C'est ce que la documentation appelle **in-place**."
   ]
  },
  {
   "cell_type": "code",
   "execution_count": null,
   "metadata": {},
   "outputs": [],
   "source": [
    "print(l)"
   ]
  },
  {
   "cell_type": "markdown",
   "metadata": {},
   "source": [
    "Si on veut garder la liste d'origine et obtenir une copie qui soit classée, il faut alors utiliser ceci :"
   ]
  },
  {
   "cell_type": "code",
   "execution_count": null,
   "metadata": {},
   "outputs": [],
   "source": [
    "l = [5, 2, 7, 0, 1, 8, 9, 3, 6, 4]\n",
    "l2 = sorted(l)"
   ]
  },
  {
   "cell_type": "markdown",
   "metadata": {},
   "source": [
    "On vérifie que la liste d'origine n'est pas modifiée :"
   ]
  },
  {
   "cell_type": "code",
   "execution_count": null,
   "metadata": {},
   "outputs": [],
   "source": [
    "print(l)"
   ]
  },
  {
   "cell_type": "markdown",
   "metadata": {},
   "source": [
    "On vérifie que la liste obtenu est bien triée :"
   ]
  },
  {
   "cell_type": "code",
   "execution_count": null,
   "metadata": {},
   "outputs": [],
   "source": [
    "print(l2)"
   ]
  },
  {
   "cell_type": "markdown",
   "metadata": {},
   "source": [
    "Au passage, on vient de voir que le tri en place d'une liste se fait en utilisant une méthode (paradigme objet) alors que le tri par duplication se fait en utilisant une fonction (paradigme impératif).\n",
    "\n",
    "En Python, mélanger les paradigmes est naturel et il n'y a pas de règle qui dit qu'un paradigme est mieux qu'un autre. Il existe simplement des situations ou l'un des paradigme est plus naturel à utiliser qu'un autre.\n",
    "\n",
    "Exercice 1\n",
    "----------\n",
    "\n",
    "* listez les méthodes d'une chaîne de caractères :\n",
    "* identifiez la méthode permettant de remplacer un ou plusieurs caractères (en devinant par rapport à son nom)\n",
    "* affichez la documentation de la fonction\n",
    "* essayez la méthode à partir de la variable suivante :\n",
    "    * Remplacez \"à effectuer\" par \"correctement effectué\"\n",
    "* qu'observez-vous ?\n",
    "    * il y a une différence de comportement entre cette méthode et la méthode **sort** d'une liste."
   ]
  },
  {
   "cell_type": "code",
   "execution_count": null,
   "metadata": {},
   "outputs": [],
   "source": [
    "chaine = \"Ceci est un test à effectuer\""
   ]
  },
  {
   "cell_type": "code",
   "execution_count": null,
   "metadata": {},
   "outputs": [],
   "source": [
    "print(chaine)"
   ]
  },
  {
   "cell_type": "code",
   "execution_count": null,
   "metadata": {},
   "outputs": [],
   "source": [
    "dir(chaine)"
   ]
  },
  {
   "cell_type": "code",
   "execution_count": null,
   "metadata": {},
   "outputs": [],
   "source": [
    "help(chaine.replace)"
   ]
  },
  {
   "cell_type": "code",
   "execution_count": null,
   "metadata": {},
   "outputs": [],
   "source": [
    "chaine.replace(\"e\", \"E\", 4)"
   ]
  },
  {
   "cell_type": "code",
   "execution_count": null,
   "metadata": {},
   "outputs": [],
   "source": [
    "print(chaine)"
   ]
  },
  {
   "cell_type": "code",
   "execution_count": null,
   "metadata": {},
   "outputs": [],
   "source": [
    "chaine = chaine.replace(\"à effectuer\", \"correctement effectuée\")"
   ]
  },
  {
   "cell_type": "code",
   "execution_count": null,
   "metadata": {},
   "outputs": [],
   "source": [
    "print(chaine)"
   ]
  },
  {
   "cell_type": "markdown",
   "metadata": {},
   "source": [
    "L'exercice nous montre la différence entre les objets **mutables** et les objets **non mutables**. Les premiers sont fait pour être dynamique et leur représentation en mémoire peut changer à tout moment au grés des besoins. Les seconds ne changent jamais.\n",
    "\n",
    "Une chaine de caractère en mémoire ne changera jamais. Si on la modifie, on crée en réalité une copie de la chaîne et le pointeur change d'adresse mémoire pour pointer vers la chaîne modifiée. Ainsi, les méthodes d'une chaîne de caractère renvoient une nouvelle chaîne sans jamais modifier l'objet courant. C'est parce que l'on utilise l'opérateur d'affectation que l'on *modifie* sa variable.\n",
    "\n",
    "C'est aussi ce comportement qui fait que l'on peut chaîner les appels :"
   ]
  },
  {
   "cell_type": "code",
   "execution_count": null,
   "metadata": {},
   "outputs": [],
   "source": [
    "chaine.replace(\"Ceci\", \"Cela\").replace(\"est\", \"sera\")"
   ]
  },
  {
   "cell_type": "markdown",
   "metadata": {},
   "source": [
    "Pour une liste, le pointeur ne changera jamais, quelque soit les opérations réalisées, à moins de faire explicitement une réaffectation. Il est donc facile de se tromper lorsque l'on n'a pas encore le langage en main :"
   ]
  },
  {
   "cell_type": "code",
   "execution_count": null,
   "metadata": {},
   "outputs": [],
   "source": [
    "l = [1, 3, 2, 4]\n",
    "l = l.sort()\n",
    "print(l)"
   ]
  },
  {
   "cell_type": "markdown",
   "metadata": {},
   "source": [
    "La méthode ne renvoie bien. Donc elle renvoie en réalité un pointeur vers **None**.\n",
    "Si on utilise un opérateur d'affectation, on affecte donc cette valeur là à notre liste et on perd ainsi la valeur de cette liste.\n",
    "\n",
    "Pour la même raison, il n'est pas possible de chaîner les méthodes d'une liste.\n",
    "\n",
    "Sont **non mutable** :\n",
    "\n",
    "* les littéraux\n",
    "    * entiers, flottants, nombres complexes, chaînes de caractères\n",
    "    * les n-uplets\n",
    "    * les objets *frozen*, comme les frozenset\n",
    "    * les booléens et le None\n",
    "\n",
    "Sont **mutables** tous les objets classiques Python, y compris ceux issus des classes que l'on écrit soi-même."
   ]
  },
  {
   "cell_type": "markdown",
   "metadata": {},
   "source": [
    "Exercice 2\n",
    "----------\n",
    "\n",
    "JSON est une technique de sérialisation de données, permettant de les échanger via le réseau, potentiellement entre des programmes hétérogènes.\n",
    "\n",
    "* On a importé le module **json**\n",
    "    * json est maintenant une variable\n",
    "    * quel est son type ?\n",
    "* donner la liste des méthodes du module\n",
    "* donner le nom des deux fonctions principales permettant de sérialiser et désérialiser sans utiliser de fichier\n",
    "    * pour cela, afficher l'aide des fonction\n",
    "    * lire les signatures des fonctions du module\n",
    "    * déduire les noms des fonctions dont on a besoin\n",
    "    * les utiliser pour sérialiser et désérialiser les variables suivantes :"
   ]
  },
  {
   "cell_type": "code",
   "execution_count": null,
   "metadata": {},
   "outputs": [],
   "source": [
    "import json"
   ]
  },
  {
   "cell_type": "code",
   "execution_count": null,
   "metadata": {},
   "outputs": [],
   "source": [
    "data = [\n",
    "    {\n",
    "        \"pk\": 1,\n",
    "        \"label\": \"test\",\n",
    "    }, {\n",
    "        \"pk\": 2,\n",
    "        \"label\": \"python\",        \n",
    "    }\n",
    "]"
   ]
  },
  {
   "cell_type": "code",
   "execution_count": null,
   "metadata": {},
   "outputs": [],
   "source": [
    "serialized = '[{\"pk\": 1, \"label\": \"test\"}, {\"pk\": 2, \"label\": \"python\"}]'"
   ]
  },
  {
   "cell_type": "markdown",
   "metadata": {},
   "source": [
    "---\n",
    "Réponse de l'exercice."
   ]
  },
  {
   "cell_type": "code",
   "execution_count": null,
   "metadata": {},
   "outputs": [],
   "source": [
    "type(json)"
   ]
  },
  {
   "cell_type": "code",
   "execution_count": null,
   "metadata": {},
   "outputs": [],
   "source": [
    "dir(json)"
   ]
  },
  {
   "cell_type": "code",
   "execution_count": null,
   "metadata": {},
   "outputs": [],
   "source": [
    "type(json.codecs)"
   ]
  },
  {
   "cell_type": "code",
   "execution_count": null,
   "metadata": {},
   "outputs": [],
   "source": [
    "type(json.dump)"
   ]
  },
  {
   "cell_type": "code",
   "execution_count": null,
   "metadata": {},
   "outputs": [],
   "source": [
    "help(json.dump)"
   ]
  },
  {
   "cell_type": "code",
   "execution_count": null,
   "metadata": {},
   "outputs": [],
   "source": [
    "help(json.dumps)"
   ]
  },
  {
   "cell_type": "code",
   "execution_count": null,
   "metadata": {},
   "outputs": [],
   "source": [
    "json.dumps(data)  # Sert à sérialiser"
   ]
  },
  {
   "cell_type": "code",
   "execution_count": null,
   "metadata": {},
   "outputs": [],
   "source": [
    "help(json.loads)"
   ]
  },
  {
   "cell_type": "code",
   "execution_count": null,
   "metadata": {},
   "outputs": [],
   "source": [
    "json.loads(serialized)  # Sert à désérialiser."
   ]
  },
  {
   "cell_type": "code",
   "execution_count": null,
   "metadata": {},
   "outputs": [],
   "source": [
    "obj = json.loads(serialized)"
   ]
  },
  {
   "cell_type": "code",
   "execution_count": null,
   "metadata": {},
   "outputs": [],
   "source": [
    "print(obj)"
   ]
  },
  {
   "cell_type": "code",
   "execution_count": null,
   "metadata": {},
   "outputs": [],
   "source": [
    "type(obj)"
   ]
  },
  {
   "cell_type": "code",
   "execution_count": null,
   "metadata": {},
   "outputs": [],
   "source": [
    "len(obj)"
   ]
  },
  {
   "cell_type": "code",
   "execution_count": null,
   "metadata": {},
   "outputs": [],
   "source": []
  }
 ],
 "metadata": {
  "kernelspec": {
   "display_name": "Python 3",
   "language": "python",
   "name": "python3"
  },
  "language_info": {
   "codemirror_mode": {
    "name": "ipython",
    "version": 3
   },
   "file_extension": ".py",
   "mimetype": "text/x-python",
   "name": "python",
   "nbconvert_exporter": "python",
   "pygments_lexer": "ipython3",
   "version": "3.8.2"
  }
 },
 "nbformat": 4,
 "nbformat_minor": 1
}
