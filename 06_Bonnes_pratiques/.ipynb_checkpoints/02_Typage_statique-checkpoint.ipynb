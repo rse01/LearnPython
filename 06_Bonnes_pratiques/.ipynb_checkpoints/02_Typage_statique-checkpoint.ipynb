{
 "cells": [
  {
   "cell_type": "markdown",
   "id": "manual-worker",
   "metadata": {},
   "source": [
    "Typage statique\n",
    "=="
   ]
  },
  {
   "cell_type": "code",
   "execution_count": null,
   "id": "packed-venture",
   "metadata": {},
   "outputs": [],
   "source": [
    "def somme(a: int, b: int) -> int:\n",
    "    return a + b"
   ]
  },
  {
   "cell_type": "code",
   "execution_count": null,
   "id": "heavy-petersburg",
   "metadata": {},
   "outputs": [],
   "source": [
    "somme(34, 8)"
   ]
  },
  {
   "cell_type": "code",
   "execution_count": null,
   "id": "powered-fossil",
   "metadata": {},
   "outputs": [],
   "source": [
    "somme(3.1, 1.1)"
   ]
  },
  {
   "cell_type": "code",
   "execution_count": null,
   "id": "convinced-removal",
   "metadata": {},
   "outputs": [],
   "source": [
    "somme(\"4\", \"2\")"
   ]
  },
  {
   "cell_type": "code",
   "execution_count": null,
   "id": "suspected-longer",
   "metadata": {},
   "outputs": [],
   "source": [
    "import typing\n",
    "dir(typing)"
   ]
  },
  {
   "cell_type": "code",
   "execution_count": null,
   "id": "measured-district",
   "metadata": {},
   "outputs": [],
   "source": [
    "from typing import List\n",
    "l : List[str] = [\"a\", \"b\", \"c\"]\n",
    "print(l)"
   ]
  },
  {
   "cell_type": "code",
   "execution_count": null,
   "id": "clean-sharp",
   "metadata": {},
   "outputs": [],
   "source": [
    "from typing import Set\n",
    "s : Set[str] = {\"a\", \"b\", \"c\"}\n",
    "print(s)"
   ]
  },
  {
   "cell_type": "code",
   "execution_count": null,
   "id": "dressed-fleece",
   "metadata": {},
   "outputs": [],
   "source": [
    "from typing import Iterable\n",
    "s2 : Iterable[str] = {\"a\", \"b\", \"c\"}\n",
    "l2 : Iterable[str] = [\"a\", \"b\", \"c\"]\n",
    "print(s)"
   ]
  },
  {
   "cell_type": "code",
   "execution_count": null,
   "id": "independent-binary",
   "metadata": {},
   "outputs": [],
   "source": [
    "from typing import Dict\n",
    "d : Dict[int, str] = {\n",
    "    1: \"1\",\n",
    "    2: \"2\",\n",
    "    3: \"3\",\n",
    "}\n",
    "print(d)"
   ]
  },
  {
   "cell_type": "markdown",
   "id": "sudden-insertion",
   "metadata": {},
   "source": [
    "A partir de Python 2.9, on peut utiliser directement les classes des objets :\n",
    "\n",
    "    s2 : set[str] = {\"a\", \"b\", \"c\"}\n",
    "    l2 : list[str] = [\"a\", \"b\", \"c\"]\n",
    "    d : dict[int, str] = {\n",
    "        1: \"1\",\n",
    "        2: \"2\",\n",
    "        3: \"3\",\n",
    "    }"
   ]
  },
  {
   "cell_type": "code",
   "execution_count": null,
   "id": "dried-exhaust",
   "metadata": {},
   "outputs": [],
   "source": []
  }
 ],
 "metadata": {
  "kernelspec": {
   "display_name": "Python 3",
   "language": "python",
   "name": "python3"
  },
  "language_info": {
   "codemirror_mode": {
    "name": "ipython",
    "version": 3
   },
   "file_extension": ".py",
   "mimetype": "text/x-python",
   "name": "python",
   "nbconvert_exporter": "python",
   "pygments_lexer": "ipython3",
   "version": "3.8.2"
  }
 },
 "nbformat": 4,
 "nbformat_minor": 5
}
