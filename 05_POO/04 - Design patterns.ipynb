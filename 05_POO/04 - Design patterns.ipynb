{
 "cells": [
  {
   "cell_type": "code",
   "execution_count": null,
   "id": "universal-newcastle",
   "metadata": {},
   "outputs": [],
   "source": [
    "class Registre:\n",
    "    \n",
    "    instances = set()\n",
    "\n",
    "    def __init__(self, value):\n",
    "        self.instances.add(self)\n",
    "        self.value = value\n",
    "    def __repr__(self):\n",
    "        return f\"{self.value}\""
   ]
  },
  {
   "cell_type": "code",
   "execution_count": null,
   "id": "secret-turkish",
   "metadata": {},
   "outputs": [],
   "source": [
    "a = Registre(42)"
   ]
  },
  {
   "cell_type": "code",
   "execution_count": null,
   "id": "laden-differential",
   "metadata": {},
   "outputs": [],
   "source": [
    "b = Registre(\"Exemple\")"
   ]
  },
  {
   "cell_type": "code",
   "execution_count": null,
   "id": "consistent-dayton",
   "metadata": {},
   "outputs": [],
   "source": [
    "print(Registre.instances)"
   ]
  },
  {
   "cell_type": "markdown",
   "id": "appropriate-background",
   "metadata": {},
   "source": [
    "Property\n",
    "--\n",
    "\n",
    "Champs calculés"
   ]
  },
  {
   "cell_type": "code",
   "execution_count": null,
   "id": "touched-radiation",
   "metadata": {},
   "outputs": [],
   "source": [
    "class Color:\n",
    "    def __init__(self, red, green, blue):\n",
    "        self.red, self.green, self.blue = red, green, blue\n",
    "    @property\n",
    "    def html(self):\n",
    "        return f\"#{self.red:02x}{self.green:02x}{self.blue:02x}\"\n",
    "\n",
    "aero = Color(124, 185, 132)\n",
    "print(aero.html)"
   ]
  },
  {
   "cell_type": "markdown",
   "id": "august-pixel",
   "metadata": {},
   "source": [
    "**Rendre ces champs calculés assignables :***"
   ]
  },
  {
   "cell_type": "code",
   "execution_count": null,
   "id": "virtual-welcome",
   "metadata": {},
   "outputs": [],
   "source": [
    "class Color:\n",
    "    def __init__(self, red, green, blue):\n",
    "        self.red, self.green, self.blue = red, green, blue\n",
    "    @property\n",
    "    def html(self):\n",
    "        return f\"#{self.red:02x}{self.green:02x}{self.blue:02x}\"\n",
    "    @html.setter\n",
    "    def html(self, value):\n",
    "        value = int(value.replace(\"#\",\"\"), base=16)\n",
    "        self.red = value // 256 ** 2\n",
    "        self.green = (value % 256 ** 2) // 256\n",
    "        self.blue = value % 256\n",
    "\n",
    "amaranth = Color(124, 185, 132)\n",
    "amaranth.html = \"#e52b50\"\n",
    "print(amaranth.red, amaranth.green, amaranth.blue)\n",
    "print(amaranth.html)"
   ]
  },
  {
   "cell_type": "markdown",
   "id": "simple-parliament",
   "metadata": {},
   "source": [
    "**Supprimer le contenu d'un champs calculé :**"
   ]
  },
  {
   "cell_type": "code",
   "execution_count": null,
   "id": "vertical-symposium",
   "metadata": {},
   "outputs": [],
   "source": [
    "class Color:\n",
    "    def __init__(self, red, green, blue):\n",
    "        self.red, self.green, self.blue = red, green, blue\n",
    "    @property\n",
    "    def html(self):\n",
    "        return f\"#{self.red:02x}{self.green:02x}{self.blue:02x}\"\n",
    "    @html.setter\n",
    "    def html(self, value):\n",
    "        value = int(value.replace(\"#\",\"\"), base=16)\n",
    "        self.red = value // 256 ** 2\n",
    "        self.green = (value % 256 ** 2) // 256\n",
    "        self.blue = value % 256\n",
    "    @html.deleter\n",
    "    def html(self):\n",
    "        self.red = self.green = self.blue = 0\n",
    "\n",
    "amaranth = Color(124, 185, 132)\n",
    "del amaranth.html\n",
    "print(amaranth.red, amaranth.green, amaranth.blue)\n",
    "print(amaranth.html)"
   ]
  },
  {
   "cell_type": "markdown",
   "id": "subtle-oakland",
   "metadata": {},
   "source": [
    "Singleton\n",
    "--\n",
    "\n",
    "Chaque objet est une instance de la classe **object** et chacune de ces instances est unique :"
   ]
  },
  {
   "cell_type": "code",
   "execution_count": null,
   "id": "excessive-sunday",
   "metadata": {},
   "outputs": [],
   "source": [
    "object() is object()"
   ]
  },
  {
   "cell_type": "code",
   "execution_count": null,
   "id": "natural-operator",
   "metadata": {},
   "outputs": [],
   "source": [
    "class Singleton: \n",
    "    instance = None \n",
    "    def __new__(cls): \n",
    "        if cls.instance is None: \n",
    "            cls.instance = object.__new__(cls)\n",
    "        return cls.instance \n",
    "Singleton() is Singleton()"
   ]
  },
  {
   "cell_type": "code",
   "execution_count": null,
   "id": "significant-radical",
   "metadata": {},
   "outputs": [],
   "source": [
    "Singleton() is Singleton.instance"
   ]
  },
  {
   "cell_type": "code",
   "execution_count": null,
   "id": "rural-server",
   "metadata": {},
   "outputs": [],
   "source": []
  }
 ],
 "metadata": {
  "kernelspec": {
   "display_name": "Python 3",
   "language": "python",
   "name": "python3"
  },
  "language_info": {
   "codemirror_mode": {
    "name": "ipython",
    "version": 3
   },
   "file_extension": ".py",
   "mimetype": "text/x-python",
   "name": "python",
   "nbconvert_exporter": "python",
   "pygments_lexer": "ipython3",
   "version": "3.8.2"
  }
 },
 "nbformat": 4,
 "nbformat_minor": 5
}
