{
 "cells": [
  {
   "cell_type": "markdown",
   "metadata": {},
   "source": [
    "Fonctions : Introduction\n",
    "========================\n",
    "\n",
    "Signature d'une fonction\n",
    "------------------------\n",
    "\n",
    "* La première ligne d'une fonction est nommé la *signature de la fonction*; elle contient :\n",
    "    * le nom de ses *paramètres*\n",
    "    * leur *ordre*\n",
    "    * leurs éventuelles *valeurs par défaut*\n",
    "    * éventuellement leur type et le type de retour.\n",
    "\n",
    "---\n",
    "\n",
    "    def nom_fonction(parametres):\n",
    "        pass\n",
    "\n",
    "    def somme(a: int, b: int) -> int:\n",
    "        return a + b\n",
    "\n",
    "---\n",
    "\n",
    "Ce typage n'est pas contraignant. Par contre, on peut les vérifier dans des tests unitaires.\n",
    "\n",
    "http://mypy-lang.org/\n",
    "\n",
    "---\n",
    "\n",
    "Le contenu de la fonction (c'est à dire le code exécuté lorsque la fonction est *appelée*) se trouve dans le **bloc de code** de la fonction.\n",
    "\n",
    "Pour rappel, en Python, un **bloc de code** est délimité par la présence des deux points et par une indentation plus élevée (contrairement aux autres langages qui utilisent des accolades).\n",
    "\n",
    "Ceci permet d'avoir un code plus lisible. Comme il est obligatoire d'avoir un bloc de code, même lorsque l'on ne veut rien faire, le mot-clé **pass** permet de respecter ce principe et ne fait strictement rien. Il est juste là pour marquer le bloc.\n",
    "\n",
    "Paramètres\n",
    "----------"
   ]
  },
  {
   "cell_type": "code",
   "execution_count": null,
   "metadata": {},
   "outputs": [],
   "source": [
    "def dire_bonjour(qui):\n",
    "    \"\"\"Documentation de la fonction\"\"\"\n",
    "    print(\"bonjour \" + qui)"
   ]
  },
  {
   "cell_type": "markdown",
   "metadata": {},
   "source": [
    "Voici un *appel de fonction* :"
   ]
  },
  {
   "cell_type": "code",
   "execution_count": null,
   "metadata": {},
   "outputs": [],
   "source": [
    "dire_bonjour(\"vous tous\")"
   ]
  },
  {
   "cell_type": "markdown",
   "metadata": {},
   "source": [
    "Voici deux appels incorrects, puisqu'ils ne respectent pas la signature de la fonction."
   ]
  },
  {
   "cell_type": "code",
   "execution_count": null,
   "metadata": {},
   "outputs": [],
   "source": [
    "dire_bonjour()"
   ]
  },
  {
   "cell_type": "code",
   "execution_count": null,
   "metadata": {},
   "outputs": [],
   "source": [
    "dire_bonjour(\"moi\", \"toi\")"
   ]
  },
  {
   "cell_type": "markdown",
   "metadata": {},
   "source": [
    "Voici comment préciser une valeur par défaut :"
   ]
  },
  {
   "cell_type": "code",
   "execution_count": null,
   "metadata": {},
   "outputs": [],
   "source": [
    "def dire_bonjour(qui=\"monde\"):\n",
    "    \"\"\"Documentation de la fonction\"\"\"\n",
    "    print(\"bonjour \" + qui)"
   ]
  },
  {
   "cell_type": "code",
   "execution_count": null,
   "metadata": {},
   "outputs": [],
   "source": [
    "dire_bonjour(\"vous tous\")"
   ]
  },
  {
   "cell_type": "code",
   "execution_count": null,
   "metadata": {},
   "outputs": [],
   "source": [
    "dire_bonjour()"
   ]
  },
  {
   "cell_type": "code",
   "execution_count": null,
   "metadata": {},
   "outputs": [],
   "source": [
    "dire_bonjour(\"moi\", \"toi\")"
   ]
  },
  {
   "cell_type": "markdown",
   "metadata": {},
   "source": [
    "Valeur de retour\n",
    "----------------\n",
    "\n",
    "Quelque soit la situation, *les fonctions Python renvoient toujours **une** et **une seule** valeur*.\n",
    "\n",
    "Dans l'exemple précédent, comme rien n'est précisé, Python renvoie implicitement **None** (qui est la valeur nulle, appelée dans les autres langages **null** ou **nil**).\n",
    "\n",
    "Pour retourner une valeur, il faut utiliser le mot clé **return**. Voici l'exemple précédent revu en renvoyant explicitement **None**."
   ]
  },
  {
   "cell_type": "code",
   "execution_count": null,
   "metadata": {},
   "outputs": [],
   "source": [
    "def dire_bonjour(qui=\"monde\"):\n",
    "    \"\"\"Documentation de la fonction\"\"\"\n",
    "    print(\"bonjour \" + qui)\n",
    "    return None"
   ]
  },
  {
   "cell_type": "markdown",
   "metadata": {},
   "source": [
    "**Ceci est nuancé par l'utilisation des n-uplets**\n",
    "\n",
    "Il est en effet possible de renvoyer un n-uplet, donnant l'impression de renvoyer plusieurs valeurs."
   ]
  },
  {
   "cell_type": "code",
   "execution_count": null,
   "metadata": {},
   "outputs": [],
   "source": [
    "def traitement(ok):\n",
    "    \"\"\"Documentation de la fonction\"\"\"\n",
    "    if ok:\n",
    "        return ('code_success', 'message_succes')\n",
    "    return 'code_erreur', 'message_erreur'"
   ]
  },
  {
   "cell_type": "markdown",
   "metadata": {},
   "source": [
    "On peut ici avoir l'impression que l'on retourne plusieurs valeurs, mais il n'en est rien. En réalité, on retourne un n-uplet de valeurs.\n",
    "\n",
    "Par contre, ce qui est intéressant est que ces valeurs peuvent être dépilées. Par exemple, au lieu d'écrire ceci :"
   ]
  },
  {
   "cell_type": "code",
   "execution_count": null,
   "metadata": {},
   "outputs": [],
   "source": [
    "res = traitement(True)\n",
    "code = res[0]\n",
    "message = res[1]\n",
    "print(\"code \" + code + \", message \" + message)"
   ]
  },
  {
   "cell_type": "markdown",
   "metadata": {},
   "source": [
    "Il est possible d'utiliser l'affectation multiple en écrivant ceci :"
   ]
  },
  {
   "cell_type": "code",
   "execution_count": null,
   "metadata": {},
   "outputs": [],
   "source": [
    "code, message = traitement(True)\n",
    "print(\"code \" + code + \", message \" + message)"
   ]
  },
  {
   "cell_type": "markdown",
   "metadata": {},
   "source": [
    "IL est cependant vital de vérifier qu'il y ait le même nombre d'élément à droite et à gauche :"
   ]
  },
  {
   "cell_type": "code",
   "execution_count": null,
   "metadata": {},
   "outputs": [],
   "source": [
    "a, b, c, d, e = range(5)\n",
    "print(a, b, c, d, e)"
   ]
  },
  {
   "cell_type": "code",
   "execution_count": null,
   "metadata": {},
   "outputs": [],
   "source": [
    "a, b, c, d, e = range(4)\n",
    "print(a, b, c, d, e)"
   ]
  },
  {
   "cell_type": "code",
   "execution_count": null,
   "metadata": {},
   "outputs": [],
   "source": [
    "a, b, c, d, e = range(6)\n",
    "print(a, b, c, d, e)"
   ]
  },
  {
   "cell_type": "markdown",
   "metadata": {},
   "source": [
    "---\n",
    "\n",
    "Contenu d'une fonction\n",
    "----------------------\n",
    "\n",
    "Le contenu d'une fonction est un bloc de code comme un autre. On peut tout faire à l'intérieur d'une fonction : définir un autre bloc, une autre fonction, définir une classe, des variables, ..."
   ]
  },
  {
   "cell_type": "code",
   "execution_count": null,
   "metadata": {},
   "outputs": [],
   "source": [
    "def ma_fonction(a, b):\n",
    "    \"\"\"Documentation de la fonction\"\"\"\n",
    "    # code indenté,\n",
    "    # faisant partie du bloc de la fonction\n",
    "    somme = a + b\n",
    "    if somme > 0:\n",
    "        # code indenté plus profondément,\n",
    "        # faisant partie du bloc conditionnel\n",
    "        return False\n",
    "    return True"
   ]
  },
  {
   "cell_type": "code",
   "execution_count": null,
   "metadata": {},
   "outputs": [],
   "source": [
    "def f(key, data={}):\n",
    "    data[key] = True\n",
    "    return data\n",
    "\n",
    "# Example qui ne crée pas de problème\n",
    "d = {\"exemple\": False}\n",
    "f(\"truc\", d)\n",
    "print(d)"
   ]
  },
  {
   "cell_type": "code",
   "execution_count": null,
   "metadata": {},
   "outputs": [],
   "source": [
    "f(\"truc\")"
   ]
  },
  {
   "cell_type": "code",
   "execution_count": null,
   "metadata": {},
   "outputs": [],
   "source": [
    "f(\"machin\")"
   ]
  },
  {
   "cell_type": "markdown",
   "metadata": {},
   "source": [
    "Voici comment éviter cet eccueil classique"
   ]
  },
  {
   "cell_type": "code",
   "execution_count": null,
   "metadata": {},
   "outputs": [],
   "source": [
    "def f(key, data=None):  # il faut que data soit non-mutable\n",
    "    if data is None:\n",
    "        data = {}\n",
    "    data[key] = True\n",
    "    return data"
   ]
  },
  {
   "cell_type": "code",
   "execution_count": null,
   "metadata": {},
   "outputs": [],
   "source": [
    "f(\"truc\")"
   ]
  },
  {
   "cell_type": "code",
   "execution_count": null,
   "metadata": {},
   "outputs": [],
   "source": [
    "f(\"machin\")"
   ]
  },
  {
   "cell_type": "code",
   "execution_count": null,
   "metadata": {},
   "outputs": [],
   "source": [
    "def g(param=\"abc\"):  # Là, çà ne posera pas problème car une string est non-mutable\n",
    "    pass"
   ]
  },
  {
   "cell_type": "markdown",
   "metadata": {},
   "source": [
    "Exercice 1\n",
    "----------\n",
    "\n",
    "Créez une fonction qui calcule la mensualité à rembourser en fonction d'un capital emprunté, d'une durée (exprimée en mois) et d'un taux (exprimé en pourcent)"
   ]
  },
  {
   "cell_type": "code",
   "execution_count": null,
   "metadata": {},
   "outputs": [],
   "source": [
    "from IPython.core.display import Image\n",
    "Image(filename=\"mensualite.png\")"
   ]
  },
  {
   "cell_type": "raw",
   "metadata": {},
   "source": [
    "Résultat attendu :\n",
    "\n",
    "    >>> calcul_mensualité(200000, 4.75/100, 25*12)\n",
    "    1140.234722762185"
   ]
  },
  {
   "cell_type": "code",
   "execution_count": null,
   "metadata": {},
   "outputs": [],
   "source": [
    "def calcul_mensualite(capital: int, taux: float, duree: int) -> float:\n",
    "    \"\"\"\n",
    "    Fonction permettant de calculer une mensualité à partir de\n",
    "    \n",
    "    capital : capital emprunté\n",
    "    taux : taux TEG d'emprunt, en pourcent\n",
    "    duree : durée du prêt contracté, en années\n",
    "    \n",
    "    >>> calcul_mensualite(200000, 4.75/100, 25*12)\n",
    "    1140.2347227621851\n",
    "    \"\"\"\n",
    "    return capital * ((taux / 12) / (1 - (1 + (taux / 12)) ** (-duree)))"
   ]
  },
  {
   "cell_type": "code",
   "execution_count": null,
   "metadata": {},
   "outputs": [],
   "source": [
    "calcul_mensualite(200000, 4.75/100, 25*12)"
   ]
  },
  {
   "cell_type": "code",
   "execution_count": null,
   "metadata": {},
   "outputs": [],
   "source": [
    "help(calcul_mensualite)"
   ]
  }
 ],
 "metadata": {
  "kernelspec": {
   "display_name": "Python 3",
   "language": "python",
   "name": "python3"
  },
  "language_info": {
   "codemirror_mode": {
    "name": "ipython",
    "version": 3
   },
   "file_extension": ".py",
   "mimetype": "text/x-python",
   "name": "python",
   "nbconvert_exporter": "python",
   "pygments_lexer": "ipython3",
   "version": "3.8.2"
  }
 },
 "nbformat": 4,
 "nbformat_minor": 1
}
