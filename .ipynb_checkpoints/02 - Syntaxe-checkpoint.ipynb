{
 "cells": [
  {
   "cell_type": "markdown",
   "metadata": {},
   "source": [
    "Syntaxe\n",
    "=======\n",
    "\n",
    "Introduction\n",
    "------------\n",
    "\n",
    "Ce court chapitre permet de faire le tour des différents éléments de la grammaire de Python liés à l'utilisation des mots-clés et de quelques fonctionnalités de base.\n",
    "\n",
    "Python dispose de 35 mots-clés, dont 3 commencent par une majuscule :\n",
    "\n",
    "* None (représente l'objet nul (null ou nil dans d'autres langages)\n",
    "* True (représente le binaire vrai)\n",
    "* False (représente le binaire faux)\n",
    "\n",
    "Ce sont les trois mot-clés qui sont aussi des variables (et qui sont non mutables).\n",
    "\n",
    "Les autres mots-clés sont :\n",
    "\n",
    "* and\n",
    "* as\n",
    "* assert\n",
    "* async\n",
    "* await\n",
    "* break\n",
    "* class\n",
    "* continue\n",
    "* def\n",
    "* del\n",
    "* elif\n",
    "* else\n",
    "* except\n",
    "* finally\n",
    "* for\n",
    "* from\n",
    "* global\n",
    "* if\n",
    "* import\n",
    "* in\n",
    "* is\n",
    "* lambda\n",
    "* nonlocal\n",
    "* not\n",
    "* or\n",
    "* pass\n",
    "* raise\n",
    "* return\n",
    "* try\n",
    "* while\n",
    "* with\n",
    "* yield\n",
    "\n",
    "Ces mots-clés sont des mots réservés : il est impossible de créer une variable portant l'un de ces noms :"
   ]
  },
  {
   "cell_type": "code",
   "execution_count": null,
   "metadata": {},
   "outputs": [],
   "source": [
    "del = 42"
   ]
  },
  {
   "cell_type": "markdown",
   "metadata": {},
   "source": [
    "En Python, rien n'est magique. Lorsque l'on démarre Python, il existe un certain nombre de fonction déjà présentes. Ces dernières sont dans le module **builtins**:"
   ]
  },
  {
   "cell_type": "code",
   "execution_count": null,
   "metadata": {},
   "outputs": [],
   "source": [
    "import builtins\n",
    "dir(builtins)"
   ]
  },
  {
   "cell_type": "markdown",
   "metadata": {},
   "source": [
    "C'est ainsi que l'on retrouve les fonctions **type**, **dir**, **help** que nous avons vu au chapitre précédent, ou encore **int**, **input** ou **print**."
   ]
  },
  {
   "cell_type": "markdown",
   "metadata": {},
   "source": [
    "Conditions\n",
    "----------\n",
    "\n",
    "Une condition est une expression booléenne, elle sera évaluée à True ou False."
   ]
  },
  {
   "cell_type": "code",
   "execution_count": null,
   "metadata": {},
   "outputs": [],
   "source": [
    "chaine = \"chaine de caractère\"\n",
    "condition = len(chaine) < 42\n",
    "print(condition)"
   ]
  },
  {
   "cell_type": "code",
   "execution_count": null,
   "metadata": {},
   "outputs": [],
   "source": [
    "liste_1 = [1]\n",
    "autre_condition = len(liste_1) > 2 and liste_1[1] > 0\n",
    "print(autre_condition)"
   ]
  },
  {
   "cell_type": "code",
   "execution_count": null,
   "metadata": {},
   "outputs": [],
   "source": [
    "liste_2 = [1, 2, 3]\n",
    "autre_condition = len(liste_2) > 2 and liste_2[1] > 0\n",
    "print(autre_condition)"
   ]
  },
  {
   "cell_type": "code",
   "execution_count": null,
   "metadata": {},
   "outputs": [],
   "source": [
    "condition_autre = len(liste_1) > 2 and liste_1[1] > 0 or len(liste_1) == 1\n",
    "print(condition_autre)"
   ]
  },
  {
   "cell_type": "markdown",
   "metadata": {},
   "source": [
    "---\n",
    "\n",
    "Boucles conditionnelles\n",
    "---\n",
    "\n",
    "Voici la syntaxe des boucles conditionnelles"
   ]
  },
  {
   "cell_type": "code",
   "execution_count": null,
   "metadata": {},
   "outputs": [],
   "source": [
    "if condition:\n",
    "    print('OK')"
   ]
  },
  {
   "cell_type": "code",
   "execution_count": null,
   "metadata": {},
   "outputs": [],
   "source": [
    "if condition:\n",
    "    print('OK')\n",
    "else:\n",
    "    print('KO')"
   ]
  },
  {
   "cell_type": "code",
   "execution_count": null,
   "metadata": {},
   "outputs": [],
   "source": [
    "if condition:\n",
    "    print('OK condition')\n",
    "elif autre_condition:\n",
    "    print('OK autre_condition')\n",
    "elif condition_autre:\n",
    "    print('OK condition_autre')\n",
    "else:\n",
    "    print('KO')"
   ]
  },
  {
   "cell_type": "markdown",
   "metadata": {},
   "source": [
    "Boucles itératives\n",
    "-------"
   ]
  },
  {
   "cell_type": "code",
   "execution_count": null,
   "metadata": {},
   "outputs": [],
   "source": [
    "l = ['A', 'B', 'C', 'D', 'E', 'F', 'G', 'H', 'I', 'J']"
   ]
  },
  {
   "cell_type": "code",
   "execution_count": null,
   "metadata": {},
   "outputs": [],
   "source": [
    "for e in l:\n",
    "    print(e)"
   ]
  },
  {
   "cell_type": "code",
   "execution_count": null,
   "metadata": {},
   "outputs": [],
   "source": [
    "for i, e in enumerate(l):\n",
    "    print('%s: %s' % (i, e))"
   ]
  },
  {
   "cell_type": "markdown",
   "metadata": {},
   "source": [
    "Avec le **while**, on ne sait pas à l'avance le nombre d'itérations que l'on va effectuer. Avec le **for**, on itère sur une liste finie, un générateur fini, ce qui fait que l'on sait à l'avance le nombre d'itération à l'avance.\n",
    "\n",
    "Par contre, il est également possible d'utiliser le **for** avec un générateur infini, ce qui signifie qu'il faut gérer manuellement la fin de la boucle. Plus simplement, on peut également réaliser une boucle infinie ainsi :"
   ]
  },
  {
   "cell_type": "code",
   "execution_count": null,
   "metadata": {},
   "outputs": [],
   "source": [
    "chiffre, limite = 2, 1000\n",
    "while True:\n",
    "    chiffre += chiffre / 2\n",
    "    print(chiffre)\n",
    "    if chiffre > limite:\n",
    "        break"
   ]
  },
  {
   "cell_type": "markdown",
   "metadata": {},
   "source": [
    "Sauter une itération\n",
    "--"
   ]
  },
  {
   "cell_type": "code",
   "execution_count": null,
   "metadata": {},
   "outputs": [],
   "source": [
    "voyelles = ['A', 'E', 'I', 'O', 'U', 'Y']"
   ]
  },
  {
   "cell_type": "code",
   "execution_count": null,
   "metadata": {},
   "outputs": [],
   "source": [
    "for lettre in l:\n",
    "    if lettre in voyelles:\n",
    "        continue\n",
    "    print(lettre)"
   ]
  },
  {
   "cell_type": "code",
   "execution_count": null,
   "metadata": {},
   "outputs": [],
   "source": [
    "voyelles = 'AEIOUY'"
   ]
  },
  {
   "cell_type": "code",
   "execution_count": null,
   "metadata": {},
   "outputs": [],
   "source": [
    "for lettre in l:\n",
    "    if lettre in voyelles:\n",
    "        continue\n",
    "    print(lettre)"
   ]
  },
  {
   "cell_type": "markdown",
   "metadata": {},
   "source": [
    "Il ne faut pas confondre le mot clé **continue** avec **pass**. Ce dernier n'est là que pour marquer un bloc, il ne fait strictement rien, alors que le premier va avoir une action, celle de passer immédiatement à l'itération suivante."
   ]
  },
  {
   "cell_type": "code",
   "execution_count": null,
   "metadata": {},
   "outputs": [],
   "source": [
    "for lettre in l:\n",
    "    if lettre in voyelles:\n",
    "        pass\n",
    "    print(lettre)"
   ]
  },
  {
   "cell_type": "markdown",
   "metadata": {},
   "source": [
    "Terminer une itération\n",
    "--"
   ]
  },
  {
   "cell_type": "code",
   "execution_count": null,
   "metadata": {},
   "outputs": [],
   "source": [
    "for lettre in l:\n",
    "    if lettre not in voyelles:\n",
    "        break\n",
    "    print(lettre)"
   ]
  },
  {
   "cell_type": "markdown",
   "metadata": {},
   "source": [
    "Boucle itérative de recherche\n",
    "--\n",
    "\n",
    "On fait souvent des boucles pour rechercher un objet dans un conteneur. Lorsqu'on le trouve, on peut quitter la boucle avec un break et utiliser l'objet ainsi trouvé par la suite.\n",
    "\n",
    "Cependant, il faut savoir si l'on a quitté la boucle car on a trouvé notre objet ou parce que on a parcouru tout le conteneur sans le trouver.\n",
    "\n",
    "Voici un algorithme classique permettant de gérer cette problématique :"
   ]
  },
  {
   "cell_type": "code",
   "execution_count": null,
   "metadata": {},
   "outputs": [],
   "source": [
    "ok = False\n",
    "for lettre in l:\n",
    "    if lettre == 'Z':\n",
    "        print('trouvé')\n",
    "        ok = True\n",
    "        break\n",
    "if not ok:\n",
    "    print('Pas trouvé')"
   ]
  },
  {
   "cell_type": "markdown",
   "metadata": {},
   "source": [
    "En Python la grammaire rajoute le mot clé **else** applicable à une boucle d'itération pour résoudre cette problématique sans avoir besoin de rajouter des variables inutiles :"
   ]
  },
  {
   "cell_type": "code",
   "execution_count": null,
   "metadata": {},
   "outputs": [],
   "source": [
    "for lettre in l:\n",
    "    print(lettre)\n",
    "    if lettre == 'E':\n",
    "        print('trouvé')\n",
    "        break\n",
    "else:\n",
    "    print('Pas trouvé')"
   ]
  },
  {
   "cell_type": "code",
   "execution_count": null,
   "metadata": {},
   "outputs": [],
   "source": [
    "for lettre in l:\n",
    "    print(lettre)\n",
    "    if lettre == 'Z':\n",
    "        print('trouvé')\n",
    "        break\n",
    "else:\n",
    "    print('Pas trouvé')"
   ]
  },
  {
   "cell_type": "markdown",
   "metadata": {},
   "source": [
    "Ainsi, on peut mettre le code à réaliser lorsque l'on a trouvé l'objet voulu avant le **break** et le code à réaliser lorsque l'on a pas trouvé l'objet voulu dans le bloc **else**.\n",
    "\n",
    "Cela fonctionne aussi avec le mot clé **while** :"
   ]
  },
  {
   "cell_type": "code",
   "execution_count": null,
   "metadata": {},
   "outputs": [],
   "source": [
    "while True:\n",
    "    if True:\n",
    "        print('boucle terminée par un break')\n",
    "        break\n",
    "else:\n",
    "    print('boucle non terminée par un break')"
   ]
  },
  {
   "cell_type": "code",
   "execution_count": null,
   "metadata": {},
   "outputs": [],
   "source": [
    "while False:\n",
    "    if True:\n",
    "        print('boucle terminée par un break')\n",
    "        break\n",
    "else:\n",
    "    print('boucle non terminée par un break')"
   ]
  },
  {
   "cell_type": "markdown",
   "metadata": {},
   "source": [
    "Gestion des exceptions\n",
    "----------------------\n",
    "\n",
    "On peut vouloir utiliser une fonction suceptible de ne pas fonctionner correctement : par exemple, une fonction qui permet de se connecter à un serveur de base de données peut renvoyer une exception de type 'Serveur éteint' ou de type 'identifiants de connexion invalides'.\n",
    "\n",
    "Pour cela, il faut utiliser la fonction à l'intérieur d'une boucle d'exception :"
   ]
  },
  {
   "cell_type": "code",
   "execution_count": null,
   "metadata": {},
   "outputs": [],
   "source": [
    "def fonction_critique():\n",
    "    raise Exception(\"Ceci est l'exception que je lève\")"
   ]
  },
  {
   "cell_type": "code",
   "execution_count": null,
   "metadata": {},
   "outputs": [],
   "source": [
    "fonction_critique()"
   ]
  },
  {
   "cell_type": "code",
   "execution_count": null,
   "metadata": {},
   "outputs": [],
   "source": [
    "try:\n",
    "    fonction_critique()\n",
    "except:\n",
    "    print(\"Un problème a été détecté : mise en place d'une solution de contournement\")"
   ]
  },
  {
   "cell_type": "code",
   "execution_count": null,
   "metadata": {},
   "outputs": [],
   "source": [
    "try:\n",
    "    fonction_critique()\n",
    "except IndexError as e:\n",
    "    print(\"Il faut changer d'indice\")\n",
    "except KeyError as e:\n",
    "    print(\"Il faut changer de clé\")\n",
    "except Exception as e:\n",
    "    print(\"Un problème a été détecté : mise en place d'une solution de contournement\")"
   ]
  },
  {
   "cell_type": "code",
   "execution_count": null,
   "metadata": {},
   "outputs": [],
   "source": [
    "try:\n",
    "    1/0\n",
    "except:\n",
    "    print(\"Exception\")\n",
    "else:\n",
    "    print(\"Pas d'exception\")\n",
    "finally:\n",
    "    print(\"Toujours exécuté à la fin\")"
   ]
  },
  {
   "cell_type": "code",
   "execution_count": null,
   "metadata": {},
   "outputs": [],
   "source": [
    "try:\n",
    "    1\n",
    "except:\n",
    "    print(\"Exception\")\n",
    "else:\n",
    "    print(\"Pas d'exception\")\n",
    "finally:\n",
    "    print(\"Toujours exécuté à la fin\")"
   ]
  },
  {
   "cell_type": "code",
   "execution_count": null,
   "metadata": {},
   "outputs": [],
   "source": [
    "def inverse(nb):\n",
    "    try:\n",
    "        if nb == 0:\n",
    "            raise ZeroDivisionError()\n",
    "        print(1/nb)\n",
    "        return 'OK'\n",
    "    except:\n",
    "        print('Exception')\n",
    "        return \"On ne peut pas diviser par 0\"\n",
    "    finally:\n",
    "        print(\"Toujours exécuté à la fin\")\n",
    "        return \"Return du bloc finally\""
   ]
  },
  {
   "cell_type": "code",
   "execution_count": null,
   "metadata": {},
   "outputs": [],
   "source": [
    "print(inverse(0))"
   ]
  },
  {
   "cell_type": "code",
   "execution_count": null,
   "metadata": {},
   "outputs": [],
   "source": [
    "print(inverse(2))"
   ]
  },
  {
   "cell_type": "code",
   "execution_count": null,
   "metadata": {},
   "outputs": [],
   "source": [
    "f = open(\"test_notebook.txt\")\n",
    "try:\n",
    "    print(f.read())\n",
    "finally:\n",
    "    f.close()"
   ]
  },
  {
   "cell_type": "markdown",
   "metadata": {},
   "source": [
    "Comme on le voit, le bloc **finally** est exécuté quelque soit le contexte, y compris en préemption d'un **return**.\n",
    "\n",
    "Cette particularité peut être utilisée de manière simplifiée avec le mot clé **with** qui équivaut à un **try**..**finally**, ce qui permet de s'assurer de fermer correctement une ressource quelque soit ce qu'il se passe.\n",
    "\n",
    "On entend par ressource un fichier, un sémaphore, une connexion à un serveur HTTP, FTP, Webdav, ..."
   ]
  },
  {
   "cell_type": "code",
   "execution_count": null,
   "metadata": {},
   "outputs": [],
   "source": [
    "with open(\"test_notebook.txt\") as f:\n",
    "    print(f.read())\n",
    "    print('le fichier est pas fermé')\n",
    "print('a cet instant, le fichier est fermé')"
   ]
  },
  {
   "cell_type": "markdown",
   "metadata": {},
   "source": [
    "Gestion des fichiers\n",
    "--\n",
    "\n",
    "La plupart des systèmes de fichiers modernes sont en unicode et les fichiers textuels générés sont encodés en unicode. Mais on croise souvent des fichiers textuels encodés différemment."
   ]
  },
  {
   "cell_type": "code",
   "execution_count": null,
   "metadata": {},
   "outputs": [],
   "source": [
    "with open(\"fichier_unicode.txt\") as f:\n",
    "    content = f.read()\n",
    "    print(content)\n",
    "    print(type(content))"
   ]
  },
  {
   "cell_type": "code",
   "execution_count": null,
   "metadata": {},
   "outputs": [],
   "source": [
    "with open(\"fichier_latin1.txt\") as f:\n",
    "    content = f.read()\n",
    "    print(content)\n",
    "    print(type(content))"
   ]
  },
  {
   "cell_type": "code",
   "execution_count": null,
   "metadata": {},
   "outputs": [],
   "source": [
    "with open(\"fichier_latin1.txt\", encoding=\"latin1\") as f:\n",
    "    content = f.read()\n",
    "    print(content)\n",
    "    print(type(content))"
   ]
  },
  {
   "cell_type": "code",
   "execution_count": null,
   "metadata": {},
   "outputs": [],
   "source": [
    "with open(\"fichier_latin1.txt\", encoding=\"iso-8859-15\") as f:\n",
    "    content = f.read()\n",
    "    print(content)\n",
    "    print(type(content))"
   ]
  },
  {
   "cell_type": "markdown",
   "metadata": {},
   "source": [
    "Ouverture d'un fichier binaire\n",
    "--"
   ]
  },
  {
   "cell_type": "code",
   "execution_count": null,
   "metadata": {},
   "outputs": [],
   "source": [
    "with open(\"fichier_latin1.txt\", \"rb\") as f:\n",
    "    content = f.read()\n",
    "    print(content)\n",
    "    print(type(content))"
   ]
  },
  {
   "cell_type": "code",
   "execution_count": null,
   "metadata": {},
   "outputs": [],
   "source": [
    "import chardet\n",
    "with open(\"fichier_latin1.txt\", \"rb\") as f:\n",
    "    print(chardet.detect(f.read()))"
   ]
  },
  {
   "cell_type": "markdown",
   "metadata": {},
   "source": [
    "Ouverture d'un fichier en détectant son encodage\n",
    "--"
   ]
  },
  {
   "cell_type": "code",
   "execution_count": null,
   "metadata": {},
   "outputs": [],
   "source": [
    "import chardet\n",
    "with open(\"fichier_latin1.txt\", \"rb\") as f:\n",
    "    detected_encoding = chardet.detect(f.read())\n",
    "\n",
    "with open(\"fichier_latin1.txt\", encoding=detected_encoding[\"encoding\"]) as f:\n",
    "    content = f.read()\n",
    "    print(content)\n",
    "    print(type(content))"
   ]
  },
  {
   "cell_type": "markdown",
   "metadata": {},
   "source": [
    "Ecriture dans un fichier\n",
    "--"
   ]
  },
  {
   "cell_type": "code",
   "execution_count": null,
   "metadata": {},
   "outputs": [],
   "source": [
    "with open(\"test.txt\", \"w\") as f:\n",
    "    position = f.write(\"Truc.\")\n",
    "    print(position)\n",
    "\n",
    "with open(\"test.txt\", \"r\") as f:\n",
    "    assert f.read() == \"Truc.\", \"Le contenu n'est pas conforme.\""
   ]
  },
  {
   "cell_type": "code",
   "execution_count": null,
   "metadata": {},
   "outputs": [],
   "source": [
    "with open(\"test.txt\", \"a\") as f:\n",
    "    print(f.tell())\n",
    "    content = f.write(\"Chose.\")\n",
    "\n",
    "with open(\"test.txt\", \"r\") as f:\n",
    "    assert f.read() == \"Truc.Chose.\""
   ]
  },
  {
   "cell_type": "code",
   "execution_count": null,
   "metadata": {},
   "outputs": [],
   "source": [
    "print(content)"
   ]
  },
  {
   "cell_type": "code",
   "execution_count": null,
   "metadata": {},
   "outputs": [],
   "source": [
    "with open(\"test.txt\", \"r+\") as f:\n",
    "    print(f.tell())\n",
    "    print(f.read())\n",
    "    print(f.tell())\n",
    "    f.seek(4)\n",
    "    f.write(\"-c\")\n",
    "\n",
    "with open(\"test.txt\", \"r\") as f:\n",
    "    assert f.read() == \"Truc-chose.\", \"Erreur dans la démo\"\n",
    "    print(\"Ce qui s'est passé est ce qui était prévu\")"
   ]
  },
  {
   "cell_type": "code",
   "execution_count": null,
   "metadata": {},
   "outputs": [],
   "source": [
    "with open(\"test.txt\", \"r\") as f:\n",
    "    content = f.read()\n",
    "\n",
    "content = content[:5].lower() + \"bidule-\" + content[5:]\n",
    "    \n",
    "with open(\"test.txt\", \"w\") as f:\n",
    "    f.write(content)\n",
    "\n",
    "with open(\"test.txt\", \"r\") as f:\n",
    "    print(f.read())"
   ]
  },
  {
   "cell_type": "code",
   "execution_count": null,
   "metadata": {},
   "outputs": [],
   "source": [
    "from os.path import exists\n",
    "if not exists(\"existe_pas.txt\"):\n",
    "    print(\"Création du fichier\")\n",
    "    with open(\"existe_pas.txt\", \"w\") as f:\n",
    "        pass\n",
    "else:\n",
    "    print(\"fichier déjà créé\")"
   ]
  },
  {
   "cell_type": "markdown",
   "metadata": {},
   "source": [
    "Exercice 1 :\n",
    "------------\n",
    "\n",
    "* Créer une fonction f(n) qui renvoie au 2 ^ n\n",
    "* Rajouter un contrôle au debut de la fonction : Si l'argument n'est pas un entier, lever une exception\n",
    "* afficher f(n) pour les 10 premiers n\n",
    "* afficher f(n) pour tous les nombres n tant que le résultat est inférieur à 10000"
   ]
  },
  {
   "cell_type": "code",
   "execution_count": null,
   "metadata": {},
   "outputs": [],
   "source": []
  },
  {
   "cell_type": "code",
   "execution_count": null,
   "metadata": {},
   "outputs": [],
   "source": []
  },
  {
   "cell_type": "markdown",
   "metadata": {},
   "source": [
    "Exercice 2 :\n",
    "------------\n",
    "\n",
    "* Modifier le contenu du fichier **test_notebook.txt** pour tout mettre en majuscules.\n",
    "* Copier le contenu du fichier **test_notebook2.txt** dans un autre fichier."
   ]
  },
  {
   "cell_type": "code",
   "execution_count": null,
   "metadata": {},
   "outputs": [],
   "source": []
  },
  {
   "cell_type": "markdown",
   "metadata": {},
   "source": [
    "Exercice 3 :\n",
    "------------\n",
    "\n",
    "* Écrire une fonction capable de trouver tous les nombres premiers entre 0 et n, en implémentant le crible d'ératosthène.\n",
    "* Tester pour n=100\n",
    "\n",
    "https://fr.wikipedia.org/wiki/Crible_d%27%C3%89ratosth%C3%A8ne"
   ]
  },
  {
   "cell_type": "code",
   "execution_count": null,
   "metadata": {},
   "outputs": [],
   "source": []
  },
  {
   "cell_type": "markdown",
   "metadata": {},
   "source": [
    "Exercice 4 :\n",
    "------------\n",
    "\n",
    "**Problème des n-dames** :\n",
    "\n",
    "* Est-il possible de poser 8 dames sur un échiquier 8x8 sans qu'elles ne soient en prise ?\n",
    "* Si oui, combien de solutions possibles ?\n",
    "* Généraliser à des échiquiers de NxN"
   ]
  },
  {
   "cell_type": "code",
   "execution_count": null,
   "metadata": {},
   "outputs": [],
   "source": []
  }
 ],
 "metadata": {
  "kernelspec": {
   "display_name": "Python 3",
   "language": "python",
   "name": "python3"
  },
  "language_info": {
   "codemirror_mode": {
    "name": "ipython",
    "version": 3
   },
   "file_extension": ".py",
   "mimetype": "text/x-python",
   "name": "python",
   "nbconvert_exporter": "python",
   "pygments_lexer": "ipython3",
   "version": "3.8.2"
  }
 },
 "nbformat": 4,
 "nbformat_minor": 1
}
