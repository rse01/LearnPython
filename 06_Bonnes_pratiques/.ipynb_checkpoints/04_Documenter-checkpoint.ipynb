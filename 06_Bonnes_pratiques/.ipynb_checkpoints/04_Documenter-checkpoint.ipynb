{
 "cells": [
  {
   "cell_type": "markdown",
   "id": "intended-defense",
   "metadata": {},
   "source": [
    "Documentation\n",
    "==="
   ]
  },
  {
   "cell_type": "markdown",
   "id": "partial-machine",
   "metadata": {},
   "source": [
    "Pour documenter, il existe quelque axes principaux :\n",
    "\n",
    "- utiliser des noms de variables, fonctions et classes qui soient signifiants\n",
    "- utiliser les type hints\n",
    "- écrire des tests unitaires\n",
    "- écrire les docstrings\n",
    "- écrire des commentaires pour expliquer des choix de code"
   ]
  },
  {
   "cell_type": "code",
   "execution_count": null,
   "id": "reserved-treatment",
   "metadata": {},
   "outputs": [],
   "source": [
    "# Début de module\n",
    "\"\"\"Documentation du module\"\"\"\n",
    "\n",
    "def f():\n",
    "    \"\"\"Documentation de la fonction f (dont le nom n'est pas explicite)\"\"\"\n",
    "\n",
    "class A:\n",
    "    \"\"\"Documentation de la classe A (dont le nom n'est plus explicite)\"\"\"\n",
    "    def methode(self):\n",
    "        \"\"\"Documentation de la méthode\"\"\""
   ]
  },
  {
   "cell_type": "markdown",
   "id": "injured-bikini",
   "metadata": {},
   "source": [
    "Il est possible d'écrire des tests unitaires dans une docstring :\n",
    "\n",
    "**ils servent alors à la fois de tests unitaires et d'exemple dans la documentation.**"
   ]
  },
  {
   "cell_type": "code",
   "execution_count": null,
   "id": "silver-reach",
   "metadata": {},
   "outputs": [],
   "source": [
    "def calcul_mensualite(capital: int, taux: float, duree: int) -> float:\n",
    "    \"\"\"\n",
    "    Fonction permettant de calculer une mensualité à partir de\n",
    "    \n",
    "    capital : capital emprunté\n",
    "    taux : taux TEG d'emprunt, en pourcent\n",
    "    duree : durée du prêt contracté, en années\n",
    "    \n",
    "    >>> calcul_mensualite(200000, 4.75/100, 25*12)\n",
    "    1140.2347227621851\n",
    "    \"\"\"\n",
    "    return capital * ((taux / 12) / (1 - (1 + (taux / 12)) ** (-duree)))"
   ]
  },
  {
   "cell_type": "markdown",
   "id": "conservative-finnish",
   "metadata": {},
   "source": [
    "Exemple d'un formatage standardisé d'une Docstring :"
   ]
  },
  {
   "cell_type": "code",
   "execution_count": null,
   "id": "necessary-centre",
   "metadata": {},
   "outputs": [],
   "source": [
    "def calcul_mensualite(capital: int, taux: float, duree: int) -> float:\n",
    "    \"\"\"\n",
    "    Fonction permettant de calculer une mensualité à partir de\n",
    "\n",
    "    :param capital: capital emprunté, en euros\n",
    "    :param taux: taux TEG d'emprunt, en pourcent\n",
    "    :param duree : durée du prêt contracté, en années\n",
    "    :returns: mensualité, en euros\n",
    "    :raises ValueError: En cas de nullité du taux ou de la durée\n",
    "\n",
    "    >>> calcul_mensualite(200000, 4.75/100, 25*12)\n",
    "    1140.2347227621851\n",
    "    \"\"\"\n",
    "    if taux == 0 or duree == 0:\n",
    "        raise ValueError(\"Le taux ou la durée ne peuvent être nuls\")\n",
    "    return capital * ((taux / 12) / (1 - (1 + (taux / 12)) ** (-duree)))"
   ]
  },
  {
   "cell_type": "markdown",
   "id": "failing-supervision",
   "metadata": {},
   "source": [
    "On a utilisé ici le format **reStructuredText**, recommendé par le PEP 287 qui traite spécifiquement des documentations et qui est utilisé par Sphinx, l'outil indispensable à maîtriser lorsque l'on veut créer une documentation technique comme celles que l'on peut lire avec la documentation officielle de Python ou sur le site readthedoc.\n",
    "\n",
    "Il Existe aussi le format javadoc utilisé par Epydoc ou encore le format Google.\n",
    "\n",
    "---\n",
    "\n",
    "Si l'on veut lancer les tests unitaires d'un module, au lancement de ce module, il est possible de rajouter ces quelques lignes à la fin du fichier :\n",
    "\n",
    "    if __name__ == '__main__':\n",
    "        import doctest\n",
    "        doctest.testmod()\n"
   ]
  },
  {
   "cell_type": "code",
   "execution_count": null,
   "id": "insured-buyer",
   "metadata": {},
   "outputs": [],
   "source": []
  }
 ],
 "metadata": {
  "kernelspec": {
   "display_name": "Python 3",
   "language": "python",
   "name": "python3"
  },
  "language_info": {
   "codemirror_mode": {
    "name": "ipython",
    "version": 3
   },
   "file_extension": ".py",
   "mimetype": "text/x-python",
   "name": "python",
   "nbconvert_exporter": "python",
   "pygments_lexer": "ipython3",
   "version": "3.8.2"
  }
 },
 "nbformat": 4,
 "nbformat_minor": 5
}
