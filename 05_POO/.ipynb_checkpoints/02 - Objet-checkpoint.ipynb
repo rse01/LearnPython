{
 "cells": [
  {
   "cell_type": "markdown",
   "metadata": {},
   "source": [
    "Objet\n",
    "=====\n",
    "\n",
    "Classe versus objet\n",
    "-------------------\n",
    "\n",
    "Les classes sont la description de concepts et sont avant tout destinées à encapsuler les données relatives à ces concepts.\n",
    "\n",
    "Les objets sont des instances d'une classe, sa classe est son modèle de données.\n",
    "\n",
    "Chaque objet dispose d'attributs permettant de porter ses données, de se représenter.\n",
    "\n",
    "Chaque objet dispose de méthodes permettant de donner des renseignements sur elle ou de se modifier ou encore de créer une nouvelle instance de sa classe."
   ]
  },
  {
   "cell_type": "code",
   "execution_count": null,
   "metadata": {},
   "outputs": [],
   "source": [
    "class A:\n",
    "    \"\"\"docstring\"\"\"\n",
    "\n",
    "    attribut = 4 # attribut de notre classe A dont voici la description.\n",
    "\n",
    "    def methode(self):\n",
    "        \"\"\"\n",
    "        Une méthode est une fonction encapsulée dans une classe.\n",
    "        Une méthode d'instance a toujours un premier attribut qui est self et qui représente l'instance courante de l'instance\n",
    "        \"\"\"\n",
    "        return True"
   ]
  },
  {
   "cell_type": "code",
   "execution_count": null,
   "metadata": {},
   "outputs": [],
   "source": [
    "dir(A)"
   ]
  },
  {
   "cell_type": "code",
   "execution_count": null,
   "metadata": {},
   "outputs": [],
   "source": [
    "help(A)"
   ]
  },
  {
   "cell_type": "markdown",
   "metadata": {},
   "source": [
    "Créer une instance\n",
    "------------------"
   ]
  },
  {
   "cell_type": "code",
   "execution_count": null,
   "metadata": {},
   "outputs": [],
   "source": [
    "a = A()"
   ]
  },
  {
   "cell_type": "code",
   "execution_count": null,
   "metadata": {},
   "outputs": [],
   "source": [
    "print(a.attribut)"
   ]
  },
  {
   "cell_type": "code",
   "execution_count": null,
   "metadata": {},
   "outputs": [],
   "source": [
    "print(a.methode())"
   ]
  },
  {
   "cell_type": "markdown",
   "metadata": {},
   "source": [
    "Ce qui appartient à la *classe* versus ce qui appartient à l'*instance*\n",
    "-----------------------------------------------------------------------"
   ]
  },
  {
   "cell_type": "markdown",
   "metadata": {},
   "source": [
    "l'objet **A** est une *classe* et l'objet **a** est une de ses *instances*.\n",
    "\n",
    "l'objet **attribut** est un *attribut* de la *classe* A:"
   ]
  },
  {
   "cell_type": "code",
   "execution_count": null,
   "metadata": {},
   "outputs": [],
   "source": [
    "A.attribut"
   ]
  },
  {
   "cell_type": "markdown",
   "metadata": {},
   "source": [
    "Toutes les *instances* d'une classe disposent des *attributs* de leur *classe* :"
   ]
  },
  {
   "cell_type": "code",
   "execution_count": null,
   "metadata": {},
   "outputs": [],
   "source": [
    "a.attribut"
   ]
  },
  {
   "cell_type": "markdown",
   "metadata": {},
   "source": [
    "Si la valeur de l'attribut de la classe est modifié, la valeur de l'attribut de toutes les instance est aussi modifié:"
   ]
  },
  {
   "cell_type": "code",
   "execution_count": null,
   "metadata": {},
   "outputs": [],
   "source": [
    "A.attribut = 42\n",
    "a.attribut"
   ]
  },
  {
   "cell_type": "markdown",
   "metadata": {},
   "source": [
    "L'*attribut* d'une *instance* peut aussi être changé:"
   ]
  },
  {
   "cell_type": "code",
   "execution_count": null,
   "metadata": {},
   "outputs": [],
   "source": [
    "a2 = A()\n",
    "a2.attribut = 34\n",
    "\n",
    "print(\"A.attribut = %s\" % A.attribut)\n",
    "print(\"a.attribut = %s\" % a.attribut)\n",
    "print(\"a2.attribut = %s\" % a2.attribut)"
   ]
  },
  {
   "cell_type": "code",
   "execution_count": null,
   "metadata": {},
   "outputs": [],
   "source": [
    "del a2.attribut\n",
    "\n",
    "print(\"A.attribut = %s\" % A.attribut)\n",
    "print(\"a.attribut = %s\" % a.attribut)\n",
    "print(\"a2.attribut = %s\" % a2.attribut)"
   ]
  },
  {
   "cell_type": "markdown",
   "metadata": {},
   "source": [
    "Lorsque l'on demande un *attribut* d'une *instance*, on va chercher dans l'*instance*. Si l'*instance* ne dispose pas d'un *attribut* qui lui est directement rattaché, on va alors regarder dans la *classe*."
   ]
  },
  {
   "cell_type": "code",
   "execution_count": null,
   "metadata": {},
   "outputs": [],
   "source": [
    "class A:\n",
    "    attr = \"attr de classe\"\n",
    "    def __init__(self, param=None):\n",
    "        if param is not None:\n",
    "            self.attr = param\n",
    "a1 = A(\"Attr d'instance\")\n",
    "a2 = A()"
   ]
  },
  {
   "cell_type": "code",
   "execution_count": null,
   "metadata": {},
   "outputs": [],
   "source": [
    "A.attr"
   ]
  },
  {
   "cell_type": "code",
   "execution_count": null,
   "metadata": {},
   "outputs": [],
   "source": [
    "a1.attr"
   ]
  },
  {
   "cell_type": "code",
   "execution_count": null,
   "metadata": {},
   "outputs": [],
   "source": [
    "a2.attr"
   ]
  },
  {
   "cell_type": "markdown",
   "metadata": {},
   "source": [
    "Méthodes\n",
    "--------"
   ]
  },
  {
   "cell_type": "code",
   "execution_count": null,
   "metadata": {},
   "outputs": [],
   "source": [
    "class A:\n",
    "    def methode_d_instance(self):\n",
    "        print(\"je suis une méthode de l'instance %s\" % self)\n",
    "    @classmethod\n",
    "    def methode_de_classe(cls):\n",
    "        print('je suis une méthode de la classe %s' % cls)\n",
    "    @staticmethod\n",
    "    def methode_statique():\n",
    "        print(\"je suis une méthode statique\")\n",
    "a = A()"
   ]
  },
  {
   "cell_type": "code",
   "execution_count": null,
   "metadata": {},
   "outputs": [],
   "source": [
    "a.methode_d_instance() # appel classique d'une méthode d'instance (ou méthode)"
   ]
  },
  {
   "cell_type": "code",
   "execution_count": null,
   "metadata": {},
   "outputs": [],
   "source": [
    "A.methode_d_instance(a) # appel statique d'une méthode d'instance"
   ]
  },
  {
   "cell_type": "code",
   "execution_count": null,
   "metadata": {},
   "outputs": [],
   "source": [
    "a.methode_de_classe() # appel d'une méthode de classe à partir d'un instance"
   ]
  },
  {
   "cell_type": "code",
   "execution_count": null,
   "metadata": {},
   "outputs": [],
   "source": [
    "A.methode_de_classe() # appel d'une méthode de classe à partir de la classe"
   ]
  },
  {
   "cell_type": "code",
   "execution_count": null,
   "metadata": {},
   "outputs": [],
   "source": [
    "A.methode_statique() # les méthodes statiques peuvent être considérées comme une fonction aggrégées à une classe."
   ]
  },
  {
   "cell_type": "code",
   "execution_count": null,
   "metadata": {},
   "outputs": [],
   "source": [
    "a.methode_statique() # les méthodes statiques ne sont liées ni à la classe ni à l'instance, elle sont juste encapsulées."
   ]
  },
  {
   "cell_type": "markdown",
   "metadata": {},
   "source": [
    "L'air de rien, on a utilisé ici des **décorateurs**, un patron de conception qui trouve une application très courante et simplifiée en Python, grace à l'utilisation de l'**@**."
   ]
  },
  {
   "cell_type": "code",
   "execution_count": null,
   "metadata": {},
   "outputs": [],
   "source": [
    "class A(object):\n",
    "    def methode_d_instance(self):\n",
    "        print(\"je suis une méthode de l'instance %s\" % self)\n",
    "    def methode_de_classe(cls):\n",
    "        print('je suis une méthode de la classe %s' % cls)\n",
    "    methode_de_classe = classmethod(methode_de_classe)\n",
    "    @staticmethod\n",
    "    def methode_statique():\n",
    "        print(\"je suis une méthode statique\")\n",
    "a = A()"
   ]
  },
  {
   "cell_type": "markdown",
   "metadata": {},
   "source": [
    "Héritage\n",
    "--------"
   ]
  },
  {
   "cell_type": "code",
   "execution_count": null,
   "metadata": {},
   "outputs": [],
   "source": [
    "class TestA:\n",
    "    def methode1(self):\n",
    "        print(\"méthode 1 de la classe testA\")\n",
    "    def methode2(self):\n",
    "        print(\"méthode 2 de la classe testA\")\n",
    "    def methode4(self):\n",
    "        print(\"méthode 4 de la classe testA\")\n",
    "class TestB:\n",
    "    def methode1(self):\n",
    "        print(\"méthode 1 de la classe testB\")\n",
    "    def methode3(self):\n",
    "        print(\"méthode 3 de la classe testB\")\n",
    "    def methode4(self):\n",
    "        print(\"méthode 4 de la classe testB\")\n",
    "class TestAB(TestA, TestB):\n",
    "    def methode1(self):\n",
    "        print(\"méthode 1 de la classe testAB\")\n",
    "\n",
    "ab = TestAB()\n",
    "ab.methode1()\n",
    "ab.methode2()\n",
    "ab.methode3()\n",
    "ab.methode4()"
   ]
  },
  {
   "cell_type": "code",
   "execution_count": null,
   "metadata": {},
   "outputs": [],
   "source": [
    "class B(A):\n",
    "    def methode_d_instance(self):\n",
    "        super().methode_d_instance()\n",
    "        print(\"je suis une méthode de l'instance %s (B)\" % self)\n",
    "\n",
    "b = B()\n",
    "b.methode_d_instance()"
   ]
  },
  {
   "cell_type": "code",
   "execution_count": null,
   "metadata": {},
   "outputs": [],
   "source": [
    "class C(A):\n",
    "    def methode_d_instance(self):\n",
    "        super().methode_d_instance()\n",
    "        print(\"je suis une méthode de l'instance %s (C)\" % self)\n",
    "\n",
    "class D(B, C):\n",
    "    def methode_d_instance(self):\n",
    "        super().methode_d_instance()\n",
    "        print(\"je suis une méthode de l'instance %s (D)\" % self)\n",
    "\n",
    "print(type(D()))\n",
    "print(type(D))\n",
    "type.mro(D)"
   ]
  },
  {
   "cell_type": "code",
   "execution_count": null,
   "metadata": {},
   "outputs": [],
   "source": [
    "D.methode_de_classe()"
   ]
  },
  {
   "cell_type": "code",
   "execution_count": null,
   "metadata": {},
   "outputs": [],
   "source": [
    "d = D()\n",
    "d.methode_d_instance()"
   ]
  },
  {
   "cell_type": "code",
   "execution_count": null,
   "metadata": {},
   "outputs": [],
   "source": []
  }
 ],
 "metadata": {
  "kernelspec": {
   "display_name": "Python 3",
   "language": "python",
   "name": "python3"
  },
  "language_info": {
   "codemirror_mode": {
    "name": "ipython",
    "version": 3
   },
   "file_extension": ".py",
   "mimetype": "text/x-python",
   "name": "python",
   "nbconvert_exporter": "python",
   "pygments_lexer": "ipython3",
   "version": "3.8.2"
  }
 },
 "nbformat": 4,
 "nbformat_minor": 1
}
