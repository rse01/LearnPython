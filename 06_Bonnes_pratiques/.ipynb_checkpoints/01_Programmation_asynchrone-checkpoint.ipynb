{
 "cells": [
  {
   "cell_type": "markdown",
   "id": "unavailable-vulnerability",
   "metadata": {},
   "source": [
    "Programmation asynchrone\n",
    "==\n",
    "\n",
    "Pour utiliser la programmation asynchrone, il faut identifier dans son code une partie qui est bloquante, c’est à dire qui passe du temps à attendre après des I/O.\n",
    "Il faut donc sortir cette partie du code linéaire et en faire une coroutine.\n",
    "\n",
    "**Cette notion de coroutine est à la base de la programmation asynchrone.**\n",
    "\n",
    "Voici l’exemple le plus basique, adapté de la documentation officielle :"
   ]
  },
  {
   "cell_type": "code",
   "execution_count": null,
   "id": "british-software",
   "metadata": {},
   "outputs": [],
   "source": [
    "import asyncio\n",
    "import time\n",
    "async def say_after(delay, what):\n",
    "    print(f\"before {what} {time.strftime('%X')}\")\n",
    "    await asyncio.sleep(delay)\n",
    "    print(f\"after  {what} {time.strftime('%X')}\")"
   ]
  },
  {
   "cell_type": "markdown",
   "id": "million-burner",
   "metadata": {},
   "source": [
    "Dans cet exemple, main est une fonction et l’appel de cette fonction main() va nous donner la coroutine."
   ]
  },
  {
   "cell_type": "code",
   "execution_count": null,
   "id": "macro-decision",
   "metadata": {},
   "outputs": [],
   "source": [
    "say_after"
   ]
  },
  {
   "cell_type": "code",
   "execution_count": null,
   "id": "confidential-imaging",
   "metadata": {},
   "outputs": [],
   "source": [
    "say_after(1, \"hello\")"
   ]
  },
  {
   "cell_type": "code",
   "execution_count": null,
   "id": "grave-tribute",
   "metadata": {},
   "outputs": [],
   "source": [
    "# asyncio.run(say_after(1, \"hello\"))\n",
    "await say_after(1, \"hello\")"
   ]
  },
  {
   "cell_type": "code",
   "execution_count": null,
   "id": "miniature-petersburg",
   "metadata": {},
   "outputs": [],
   "source": [
    "async def main_say_after():\n",
    "    print(f\"started at {time.strftime('%X')}\")\n",
    "    await say_after(1, 'hello')\n",
    "    await say_after(2, 'world')\n",
    "    await say_after(1, '!!!!!')\n",
    "    print(f\"finished at {time.strftime('%X')}\")\n",
    "\n",
    "# asyncio.run(main_say_after())\n",
    "await main_say_after()"
   ]
  },
  {
   "cell_type": "markdown",
   "id": "overall-heater",
   "metadata": {},
   "source": [
    "Tâches asynchrones\n",
    "--\n",
    "\n",
    "Il est possible de paralléliser l’exécution des coroutines par la création de tâches asynchrones :"
   ]
  },
  {
   "cell_type": "code",
   "execution_count": null,
   "id": "complex-advocacy",
   "metadata": {},
   "outputs": [],
   "source": [
    "async def main_say_after():\n",
    "    task1 = asyncio.create_task(\n",
    "        say_after(1, 'hello'))\n",
    "    \n",
    "    task2 = asyncio.create_task(\n",
    "        say_after(2, 'world'))\n",
    "    \n",
    "    task3 = asyncio.create_task(\n",
    "        say_after(1, '!!!!!'))\n",
    "    \n",
    "    print(f\"started at {time.strftime('%X')}\")\n",
    "    \n",
    "    print(f\"await task 1 {time.strftime('%X')}\")\n",
    "    await task1\n",
    "    print(f\"await task 2 {time.strftime('%X')}\")\n",
    "    await task2\n",
    "    print(f\"await task 3 {time.strftime('%X')}\")\n",
    "    await task3\n",
    "    \n",
    "    print(f\"finished at {time.strftime('%X')}\")"
   ]
  },
  {
   "cell_type": "code",
   "execution_count": null,
   "id": "wanted-offense",
   "metadata": {},
   "outputs": [],
   "source": [
    "# asyncio.run(main_say_after())\n",
    "await main_say_after()"
   ]
  },
  {
   "cell_type": "markdown",
   "id": "hollow-yahoo",
   "metadata": {},
   "source": [
    "Même idée, en moins verbeux:"
   ]
  },
  {
   "cell_type": "code",
   "execution_count": null,
   "id": "first-turning",
   "metadata": {},
   "outputs": [],
   "source": [
    "async def main_say_after():\n",
    "    print(f\"started at {time.strftime('%X')}\")\n",
    "    await asyncio.gather(\n",
    "        say_after(1, 'hello'),\n",
    "        say_after(2, 'world'),\n",
    "        say_after(1, '!!!!!'),\n",
    "    )\n",
    "    print(f\"finished at {time.strftime('%X')}\")\n"
   ]
  },
  {
   "cell_type": "code",
   "execution_count": null,
   "id": "incorporated-foster",
   "metadata": {},
   "outputs": [],
   "source": [
    "# asyncio.run(main_say_after())\n",
    "await main_say_after()"
   ]
  },
  {
   "cell_type": "markdown",
   "id": "liberal-southwest",
   "metadata": {},
   "source": [
    "Exemples concrets :\n",
    "--\n",
    "\n",
    "    with open(\"path/to/file\") as f:\n",
    "        content = f.read()\n",
    "\n",
    "Voici comment remplacer le gestionnaire de contexte classique par le gestionnaire de contexte asynchrone.\n",
    "\n",
    "    async with aiofiles.open(\"path/to/file\") as f:\n",
    "        content = await f.read()\n",
    "\n",
    "Voici un exemple avec le module aiohttp, qui permet de gérer des ressources HTTP de manière asynchrone, comme son nom l’indique :\n",
    "\n",
    "    import asyncio\n",
    "    import aiohttp\n",
    "    async def download_json():\n",
    "        loop = asyncio.get_running_loop()\n",
    "        async with aiohttp.ClientSession(loop=loop) as session:\n",
    "            async with session.get('http://site.com/file.json') as resp:\n",
    "                print(resp.status)\n",
    "                print(await resp.json())\n",
    "                print(data)\n",
    "\n",
    "    asyncio.run(download_json())\n",
    "\n",
    "Futures\n",
    "--\n",
    "\n",
    "Une future est une variable qui a vocation à être calculée de manière asynchrone. Son utilisation permet de continuer le programme principal en attendant son résultat."
   ]
  },
  {
   "cell_type": "code",
   "execution_count": null,
   "id": "acting-ancient",
   "metadata": {},
   "outputs": [],
   "source": [
    "from random import randint\n",
    "async def compute_value(future):\n",
    "    await asyncio.sleep(1)\n",
    "    value = randint(100, 999)\n",
    "    future.set_result(value)"
   ]
  },
  {
   "cell_type": "markdown",
   "id": "humanitarian-drill",
   "metadata": {},
   "source": [
    "Nous allons ensuite utiliser une fonction asynchrone pour :\n",
    "\n",
    "- récupérer la boucle courante\n",
    "- créer une future,\n",
    "- créer une tâche (la fonction asynchrone précédente),\n",
    "- attendre notre tâche et afficher son résultat"
   ]
  },
  {
   "cell_type": "code",
   "execution_count": null,
   "id": "ongoing-amplifier",
   "metadata": {},
   "outputs": [],
   "source": [
    "async def main():\n",
    "    loop = asyncio.get_running_loop()\n",
    "    future = loop.create_future()\n",
    "    loop.create_task(compute_value(future))\n",
    "    print(await future)\n",
    "\n",
    "# asyncio.run(main())\n",
    "await main()"
   ]
  },
  {
   "cell_type": "code",
   "execution_count": null,
   "id": "timely-novelty",
   "metadata": {},
   "outputs": [],
   "source": []
  }
 ],
 "metadata": {
  "kernelspec": {
   "display_name": "Python 3",
   "language": "python",
   "name": "python3"
  },
  "language_info": {
   "codemirror_mode": {
    "name": "ipython",
    "version": 3
   },
   "file_extension": ".py",
   "mimetype": "text/x-python",
   "name": "python",
   "nbconvert_exporter": "python",
   "pygments_lexer": "ipython3",
   "version": "3.8.2"
  }
 },
 "nbformat": 4,
 "nbformat_minor": 5
}
