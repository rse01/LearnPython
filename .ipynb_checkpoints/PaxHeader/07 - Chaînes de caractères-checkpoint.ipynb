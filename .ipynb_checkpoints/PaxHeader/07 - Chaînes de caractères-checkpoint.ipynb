81 path=Base_V4/.ipynb_checkpoints/07 - Chaînes de caractères-checkpoint.ipynb
26 mtime=1618440648.24408
