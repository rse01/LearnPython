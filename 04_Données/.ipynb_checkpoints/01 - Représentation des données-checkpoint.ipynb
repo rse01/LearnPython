{
 "cells": [
  {
   "cell_type": "markdown",
   "id": "pediatric-singing",
   "metadata": {},
   "source": [
    "En utilisant simplement les types de données que nous avons vu jusqu'à présent, il est tout à fait possible de représenter à peu près n'importe quel type de données.\n",
    "\n",
    "Le paradigme objet permet une gestion fine de la création des entités et de leurs relations et permet surtout l'encapsulation ce qui permet de mieux organiser son code et qui devient indispensable lorsque l'on atteint une taille critique du code.\n",
    "\n",
    "Mais, pour des applications de taille plus petite, l'utilisation d'un dictionnaire peut suffire à représenter une donnée et sa sémantique. A noter que même lorsque l'on utilise de l'objet, le besoin de travailler avec des dictionnaire reste souvent présent, d'où le processus de sérialisation de données (par exemple en JSON).\n",
    "\n",
    "Pour reprendre un exemple présenté précédemment :"
   ]
  },
  {
   "cell_type": "code",
   "execution_count": 1,
   "id": "respective-there",
   "metadata": {},
   "outputs": [],
   "source": [
    "groupe = [\n",
    "    {\n",
    "        \"nom\": \"Satriani\",\n",
    "        \"prenom\": \"Joe\",\n",
    "        \"role\": \"guitariste\",\n",
    "    }, {\n",
    "        \"nom\": \"Hamm\",\n",
    "        \"prenom\": \"Stuart\",\n",
    "        \"role\": \"bassiste\",\n",
    "    }, {\n",
    "        \"nom\": \"Campitelli\",\n",
    "        \"prenom\": \"Jeff\",\n",
    "        \"role\": \"batteur\",\n",
    "    }, {\n",
    "        \"nom\": \"King\",\n",
    "        \"prenom\": \"B.B\",\n",
    "        \"role\": \"guitariste\",\n",
    "    },\n",
    "]"
   ]
  },
  {
   "cell_type": "markdown",
   "id": "soviet-refrigerator",
   "metadata": {},
   "source": [
    "On a ici une liste de dictionnaires et chaque dictionnaire dispose des mêmes clés.\n",
    "\n",
    "Ces clés peuvent parfaitement être associées à des colonnes dans un fichiers CSV ou dans une base de donnée.\n",
    "\n",
    "On ne parlera également de la sérialisation en JSON qui est, en Python, évidente à réaliser."
   ]
  },
  {
   "cell_type": "markdown",
   "id": "portuguese-network",
   "metadata": {},
   "source": [
    "En Python, le choix évident est d'utiliser des listes de dictionnaires, mais suivant le cas, les listes peuvent avantageusement être remplacées par des ensembles, s'il n'y a pas de besoin de conserver une relation d'ordre et il est aussi possible de travailler avec des tableaux (listes de listes)."
   ]
  },
  {
   "cell_type": "code",
   "execution_count": 3,
   "id": "aging-allowance",
   "metadata": {},
   "outputs": [],
   "source": [
    "groupe_list = [[\"Satriani\",\n",
    "           \"Joe\",\n",
    "           \"guitariste\",],\n",
    "          [\"Hamm\",\n",
    "           \"Stuart\",\n",
    "           \"bassiste\",]]"
   ]
  },
  {
   "cell_type": "markdown",
   "id": "missing-skirt",
   "metadata": {},
   "source": [
    "Il est donc impératif de savoir itérer sur ces données, les filtrer, les transformer ou encore les ordonner. Pour ce genre d'opérations, la programmation fonctionnelle offre des outils simple à prendre en main et particulièrement performant. C'est vers cela que ce grand chapitre doit nous mener.\n",
    "\n",
    "La programmation impérative permet d'écrire un algorithme permettant d'arriver à un résultat, en décrivant des manipulations à réaliser.\n",
    "\n",
    "La programmation fonctionnelle se concentre sur la donnée de base (dans notre exemple le dictionnaire représentant la donnée) et sur les filtres ou transformations à y appliquer."
   ]
  },
  {
   "cell_type": "code",
   "execution_count": null,
   "id": "religious-climate",
   "metadata": {},
   "outputs": [],
   "source": []
  }
 ],
 "metadata": {
  "kernelspec": {
   "display_name": "Python 3",
   "language": "python",
   "name": "python3"
  },
  "language_info": {
   "codemirror_mode": {
    "name": "ipython",
    "version": 3
   },
   "file_extension": ".py",
   "mimetype": "text/x-python",
   "name": "python",
   "nbconvert_exporter": "python",
   "pygments_lexer": "ipython3",
   "version": "3.8.2"
  }
 },
 "nbformat": 4,
 "nbformat_minor": 5
}
