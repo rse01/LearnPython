{
 "cells": [
  {
   "cell_type": "markdown",
   "metadata": {},
   "source": [
    "Conteneurs\n",
    "==========\n",
    "\n",
    "Introduction\n",
    "------------\n",
    "\n",
    "Les conteneurs sont simplement des objets qui contiennent d'autres objets. On distingue :\n",
    "\n",
    "* la liste : conteneur modifiable d'objets ordonnés\n",
    "* le n-uplet : conteneur non modifiable d'objets ordonnés\n",
    "* l'ensemble : conteneur modifiable d'objets uniques et non ordonnés\n",
    "* le dictionnaire : conteneur modifiable d'objets ordonnés depuis Python 3.8\n",
    "\n",
    "Une donnée d'une liste ou d'un n-uplet sont associés à un indice, permettant de connaître leur position dans le conteneur. Pour la liste, il s'agit de la position de l'élément dans la liste, pour le n-uplet, cela a une signification implicite.\n",
    "\n",
    "Par exemple, un point dans un plan sera noté (1, 2) et on saura implicitement que x=1 et y=2. De la même manière, pour un point dans l'espace, (2, 1, 3) signifiera x=2, y=1 et z=3. La notion de tri n'a donc aucun sens pur un n-uplet, alors qu'elle en a un pour une liste.\n",
    "\n",
    "Une donnée d'un dictionnaire est associé à une clé, permettant de connaître la signification de la variable. Les clés ne sont pas triées entre elles, de même que les valeurs.\n",
    "\n",
    "Enfin, l'ensemble est un ensemble au sens mathématique du terme, mais au delà de la vision mathématique, il apporte énormément au point de vue purement algorithmique.\n",
    "\n",
    "L'ensemble de ces éléments permet de déterminer quel type de conteneur utiliser pour ses besoins.\n",
    "\n",
    "Pour aller plus loin, il faut regarder le module **collections**."
   ]
  },
  {
   "cell_type": "code",
   "execution_count": null,
   "metadata": {},
   "outputs": [],
   "source": [
    "import collections\n",
    "dir(collections)"
   ]
  },
  {
   "cell_type": "markdown",
   "metadata": {},
   "source": [
    "---\n",
    "\n",
    "Les n-uplets\n",
    "------------\n",
    "\n",
    "Les n-uplets sont une collection d'objet ordonnés et non modifiables. Le fait qu'ils ne soient pas modifiables signifient qu'ils n'ont pas de méthodes permettant leur modification, contrairement à la liste. Ils possèdent des optimisations qui les rendent plus intéressant à utiliser que les listes dès lors que l'on a pas besoin des spécificités de la liste.\n",
    "\n",
    "Leur marqueur est la parenthèse :"
   ]
  },
  {
   "cell_type": "code",
   "execution_count": null,
   "metadata": {},
   "outputs": [],
   "source": [
    "l = ()"
   ]
  },
  {
   "cell_type": "markdown",
   "metadata": {},
   "source": [
    "Ce qui est équivalent à :"
   ]
  },
  {
   "cell_type": "code",
   "execution_count": null,
   "metadata": {},
   "outputs": [],
   "source": [
    "l = tuple()"
   ]
  },
  {
   "cell_type": "markdown",
   "metadata": {},
   "source": [
    "L'ensemble des éléments contenus dans un conteneur sont séparés par des virgules"
   ]
  },
  {
   "cell_type": "markdown",
   "metadata": {},
   "source": [
    "Voici un n-uplet non vide:"
   ]
  },
  {
   "cell_type": "code",
   "execution_count": null,
   "metadata": {},
   "outputs": [],
   "source": [
    "l = ('a', 'c', 'e')"
   ]
  },
  {
   "cell_type": "markdown",
   "metadata": {},
   "source": [
    "Attention en cas d'élément unique dans le n-uplet (un 1-uplet) :"
   ]
  },
  {
   "cell_type": "code",
   "execution_count": null,
   "metadata": {},
   "outputs": [],
   "source": [
    "t = (1) # N'est pas un n-uplet, les parenthèses sont des parenthèses arithmétiques, se simplifiées et t est un entier."
   ]
  },
  {
   "cell_type": "code",
   "execution_count": null,
   "metadata": {},
   "outputs": [],
   "source": [
    "print(t)"
   ]
  },
  {
   "cell_type": "code",
   "execution_count": null,
   "metadata": {},
   "outputs": [],
   "source": [
    "t = (1,) # Il faut au moins une virgule pour marquer le n-uplet"
   ]
  },
  {
   "cell_type": "code",
   "execution_count": null,
   "metadata": {},
   "outputs": [],
   "source": [
    "print(t)\n",
    "print(type(t))"
   ]
  },
  {
   "cell_type": "markdown",
   "metadata": {},
   "source": [
    "S'il faut impérativement les parenthèses pour le n-uplet vide, elles ne sont pas obligatoires si cela ne gène pas à la compréhension :"
   ]
  },
  {
   "cell_type": "code",
   "execution_count": null,
   "metadata": {},
   "outputs": [],
   "source": [
    "t = 1, 2"
   ]
  },
  {
   "cell_type": "code",
   "execution_count": null,
   "metadata": {},
   "outputs": [],
   "source": [
    "print(t)"
   ]
  },
  {
   "cell_type": "markdown",
   "metadata": {},
   "source": [
    "Une liste dispose de plusieurs méthodes :"
   ]
  },
  {
   "cell_type": "code",
   "execution_count": null,
   "metadata": {},
   "outputs": [],
   "source": [
    "dir(tuple)"
   ]
  },
  {
   "cell_type": "markdown",
   "metadata": {},
   "source": [
    "* la méthode **count** permet de compter le nombre d'occurences d'un élément dans la liste"
   ]
  },
  {
   "cell_type": "code",
   "execution_count": null,
   "metadata": {},
   "outputs": [],
   "source": [
    "t = ['c', 'd', 'e', 'f', 'c', 'd', 'c', 'f']"
   ]
  },
  {
   "cell_type": "code",
   "execution_count": null,
   "metadata": {},
   "outputs": [],
   "source": [
    "t.count('a')"
   ]
  },
  {
   "cell_type": "code",
   "execution_count": null,
   "metadata": {},
   "outputs": [],
   "source": [
    "t.count('c')"
   ]
  },
  {
   "cell_type": "code",
   "execution_count": null,
   "metadata": {},
   "outputs": [],
   "source": [
    "t.count('f')"
   ]
  },
  {
   "cell_type": "code",
   "execution_count": null,
   "metadata": {},
   "outputs": [],
   "source": [
    "t.count('i')"
   ]
  },
  {
   "cell_type": "markdown",
   "metadata": {},
   "source": [
    "* la méthode **index** permet d'obtenir la position d'un élément au sein de la liste"
   ]
  },
  {
   "cell_type": "code",
   "execution_count": null,
   "metadata": {},
   "outputs": [],
   "source": [
    "t.index('c')"
   ]
  },
  {
   "cell_type": "code",
   "execution_count": null,
   "metadata": {},
   "outputs": [],
   "source": [
    "t.index('c', 1)"
   ]
  },
  {
   "cell_type": "code",
   "execution_count": null,
   "metadata": {},
   "outputs": [],
   "source": [
    "t.index('c', 5)"
   ]
  },
  {
   "cell_type": "code",
   "execution_count": null,
   "metadata": {},
   "outputs": [],
   "source": [
    "t.index('c', 7)"
   ]
  },
  {
   "cell_type": "markdown",
   "metadata": {},
   "source": [
    "Pour un n-uplet, la position d'un élément dans le n-uplet, son indice, donne la signification à cet élément.\n",
    "\n",
    "Par exemple, pour un point, on sait que le premier élément est l'abcsisse et le second l'ordonnée."
   ]
  },
  {
   "cell_type": "markdown",
   "metadata": {},
   "source": [
    "Affectation multiple\n",
    "--\n",
    "\n",
    "La maîtrise des n-uplets permet d'économiser du temps et/ou des ressources :"
   ]
  },
  {
   "cell_type": "code",
   "execution_count": null,
   "metadata": {},
   "outputs": [],
   "source": [
    "a = 1\n",
    "b = 2"
   ]
  },
  {
   "cell_type": "markdown",
   "metadata": {},
   "source": [
    "Peut s'écrire"
   ]
  },
  {
   "cell_type": "code",
   "execution_count": null,
   "metadata": {},
   "outputs": [],
   "source": [
    "a, b = 1, 2"
   ]
  },
  {
   "cell_type": "markdown",
   "metadata": {},
   "source": [
    "On peut également utiliser cette astuce pour simplifier des algorithmes connus, comme l'échange de deux variables qui, classiquement, se fait ainsi :"
   ]
  },
  {
   "cell_type": "code",
   "execution_count": null,
   "metadata": {},
   "outputs": [],
   "source": [
    "a, b = 1, 2"
   ]
  },
  {
   "cell_type": "code",
   "execution_count": null,
   "metadata": {},
   "outputs": [],
   "source": [
    "print(a, b)\n",
    "c = a\n",
    "a = b\n",
    "b = c\n",
    "del c\n",
    "print(a, b)"
   ]
  },
  {
   "cell_type": "markdown",
   "metadata": {},
   "source": [
    "Voici comment faire en utilisant l'affectation multiple"
   ]
  },
  {
   "cell_type": "code",
   "execution_count": null,
   "metadata": {},
   "outputs": [],
   "source": [
    "print(a, b)\n",
    "a, b = b, a\n",
    "print(a, b)"
   ]
  },
  {
   "cell_type": "code",
   "execution_count": null,
   "metadata": {},
   "outputs": [],
   "source": [
    "a, (b, c) = (1, (2, \"3\"))"
   ]
  },
  {
   "cell_type": "markdown",
   "metadata": {},
   "source": [
    "Il faut bien sûr que l'on ait le même nombre de valeurs à droite de l'opérateur d'affectation que de variable à gauche de l'opérateur.\n",
    "\n",
    "Exercices\n",
    "---------\n",
    "\n",
    "1. Utiliser un n-uplet pour représenter deux points dans un plan (choisissez les coordonnées)\n",
    "2. créer un troisième point qui soit la somme des deux premiers points"
   ]
  },
  {
   "cell_type": "code",
   "execution_count": null,
   "metadata": {},
   "outputs": [],
   "source": [
    "# TODO"
   ]
  },
  {
   "cell_type": "markdown",
   "metadata": {},
   "source": [
    "Parcourir une séquence (liste ou un n-uplet)\n",
    "--------------------------------------------\n",
    "\n",
    "Pour avoir un élément donné d'une séquence, il suffit d'utiliser son indice (lequel commence toujours à 0) :"
   ]
  },
  {
   "cell_type": "code",
   "execution_count": null,
   "metadata": {},
   "outputs": [],
   "source": [
    "t = ['a', 'b', 'c']"
   ]
  },
  {
   "cell_type": "code",
   "execution_count": null,
   "metadata": {},
   "outputs": [],
   "source": [
    "t[0]"
   ]
  },
  {
   "cell_type": "code",
   "execution_count": null,
   "metadata": {},
   "outputs": [],
   "source": [
    "t[2]"
   ]
  },
  {
   "cell_type": "code",
   "execution_count": null,
   "metadata": {},
   "outputs": [],
   "source": [
    "t[3]"
   ]
  },
  {
   "cell_type": "markdown",
   "metadata": {},
   "source": [
    "Python offre la particularité de permettre de partir de la fin et de remonter la liste, et ceci aisément :"
   ]
  },
  {
   "cell_type": "code",
   "execution_count": null,
   "metadata": {},
   "outputs": [],
   "source": [
    "t[-1]"
   ]
  },
  {
   "cell_type": "code",
   "execution_count": null,
   "metadata": {},
   "outputs": [],
   "source": [
    "t[-3]"
   ]
  },
  {
   "cell_type": "code",
   "execution_count": null,
   "metadata": {},
   "outputs": [],
   "source": [
    "t[-4]"
   ]
  },
  {
   "cell_type": "code",
   "execution_count": null,
   "metadata": {},
   "outputs": [],
   "source": [
    "print(t)"
   ]
  },
  {
   "cell_type": "code",
   "execution_count": null,
   "metadata": {},
   "outputs": [],
   "source": []
  }
 ],
 "metadata": {
  "kernelspec": {
   "display_name": "Python 3",
   "language": "python",
   "name": "python3"
  },
  "language_info": {
   "codemirror_mode": {
    "name": "ipython",
    "version": 3
   },
   "file_extension": ".py",
   "mimetype": "text/x-python",
   "name": "python",
   "nbconvert_exporter": "python",
   "pygments_lexer": "ipython3",
   "version": "3.8.2"
  }
 },
 "nbformat": 4,
 "nbformat_minor": 1
}
