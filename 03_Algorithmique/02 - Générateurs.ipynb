{
 "cells": [
  {
   "cell_type": "markdown",
   "metadata": {},
   "source": [
    "Générateurs\n",
    "-----------\n",
    "\n",
    "Pour des raisons de performances, plutôt que de construire toute une collection de données puis d'itérer dessus, il est préférable de générer les données au fur et à mesure, de les utiliser et de ne pas les stocker."
   ]
  },
  {
   "cell_type": "code",
   "execution_count": null,
   "metadata": {},
   "outputs": [],
   "source": [
    "def liste1():\n",
    "    print(\"renvoi de toute la liste\")\n",
    "    return [1, 2, 3]"
   ]
  },
  {
   "cell_type": "code",
   "execution_count": null,
   "metadata": {},
   "outputs": [],
   "source": [
    "for e in liste1():\n",
    "    print('affichage de %s' % e)"
   ]
  },
  {
   "cell_type": "code",
   "execution_count": null,
   "metadata": {},
   "outputs": [],
   "source": [
    "def liste2():\n",
    "    print('renvoi de 1')\n",
    "    yield 1\n",
    "    print('renvoi de 2')\n",
    "    yield 2\n",
    "    print('renvoi de 3')\n",
    "    yield 3"
   ]
  },
  {
   "cell_type": "code",
   "execution_count": null,
   "metadata": {},
   "outputs": [],
   "source": [
    "for e in liste2():\n",
    "    print('affichage de %s' % e)"
   ]
  },
  {
   "cell_type": "code",
   "execution_count": null,
   "metadata": {},
   "outputs": [],
   "source": [
    "def get_chars(min=97, max=101):\n",
    "    for e in range(min, max):\n",
    "        print ('génération %s' % e)\n",
    "        yield chr(e)\n",
    "\n",
    "def doubler(gen):\n",
    "    for e in gen:\n",
    "        print('doublement de %s' % e)\n",
    "        yield e*2"
   ]
  },
  {
   "cell_type": "code",
   "execution_count": null,
   "metadata": {},
   "outputs": [],
   "source": [
    "range(1, 4), list(range(1, 4))"
   ]
  },
  {
   "cell_type": "code",
   "execution_count": null,
   "metadata": {},
   "outputs": [],
   "source": [
    "for e in doubler(get_chars()):\n",
    "    print('affichage de %s\\n-' % e)"
   ]
  },
  {
   "cell_type": "markdown",
   "metadata": {},
   "source": [
    "---"
   ]
  },
  {
   "cell_type": "code",
   "execution_count": null,
   "metadata": {},
   "outputs": [],
   "source": []
  }
 ],
 "metadata": {
  "kernelspec": {
   "display_name": "Python 3",
   "language": "python",
   "name": "python3"
  },
  "language_info": {
   "codemirror_mode": {
    "name": "ipython",
    "version": 3
   },
   "file_extension": ".py",
   "mimetype": "text/x-python",
   "name": "python",
   "nbconvert_exporter": "python",
   "pygments_lexer": "ipython3",
   "version": "3.8.2"
  }
 },
 "nbformat": 4,
 "nbformat_minor": 1
}
